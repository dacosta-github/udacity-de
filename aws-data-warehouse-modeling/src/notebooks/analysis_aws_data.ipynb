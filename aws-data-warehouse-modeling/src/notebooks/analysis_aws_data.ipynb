{
 "cells": [
  {
   "cell_type": "markdown",
   "metadata": {},
   "source": [
    "# Project: Data Modeling with AWS Redshift\n",
    "## Data Analytics "
   ]
  },
  {
   "cell_type": "markdown",
   "metadata": {},
   "source": [
    "#### Step 1 - Importing packages"
   ]
  },
  {
   "cell_type": "code",
   "execution_count": 1,
   "metadata": {},
   "outputs": [],
   "source": [
    "# General:\n",
    "import pandas as pd\n",
    "import pandas.io.sql as sqlio\n",
    "import numpy as np\n",
    "import os\n",
    "import re\n",
    "\n",
    "\n",
    "# Database:\n",
    "import psycopg2\n",
    "import keyring\n",
    "import getpass\n",
    "\n",
    "# My libraries:\n",
    "import sys\n",
    "sys.path.insert(0, '../src/scripts')\n",
    "\n",
    "# Warnings\n",
    "import warnings; warnings.simplefilter('ignore')"
   ]
  },
  {
   "cell_type": "markdown",
   "metadata": {},
   "source": [
    "#### Step 2 - Configuration File"
   ]
  },
  {
   "cell_type": "code",
   "execution_count": 2,
   "metadata": {},
   "outputs": [
    {
     "data": {
      "text/plain": [
       "['../scripts/dwh.cfg']"
      ]
     },
     "execution_count": 2,
     "metadata": {},
     "output_type": "execute_result"
    }
   ],
   "source": [
    "import configparser\n",
    "\n",
    "config = configparser.ConfigParser()\n",
    "config.read('../scripts/dwh.cfg')"
   ]
  },
  {
   "cell_type": "code",
   "execution_count": 3,
   "metadata": {},
   "outputs": [
    {
     "data": {
      "text/plain": [
       "<configparser.ConfigParser at 0x7ffdac77b4f0>"
      ]
     },
     "execution_count": 3,
     "metadata": {},
     "output_type": "execute_result"
    }
   ],
   "source": [
    "config"
   ]
  },
  {
   "cell_type": "markdown",
   "metadata": {},
   "source": [
    "#### Step 3 - Define Connection to AWS Redshift Database"
   ]
  },
  {
   "cell_type": "code",
   "execution_count": 4,
   "metadata": {},
   "outputs": [
    {
     "name": "stdout",
     "output_type": "stream",
     "text": [
      "I am connected to the database!\n"
     ]
    }
   ],
   "source": [
    "'''\n",
    "Database Connection\n",
    "\n",
    "Requirements: \n",
    "    1. AWS Redshift credentials\n",
    "'''\n",
    "\n",
    "p = keyring.get_password('redshift', 'user_name')\n",
    "HOST = config.get('CLUSTER', 'HOST')\n",
    "DB_NAME =  config.get('CLUSTER', 'DB_NAME')\n",
    "DB_USER = config.get('CLUSTER', 'DB_USER')\n",
    "DB_PASSWORD = config.get('CLUSTER', 'DB_PASSWORD')\n",
    "DB_PORT = config.get('CLUSTER', 'DB_PORT')\n",
    "\n",
    "a = \"user='{}' password='{}' host='{}' port='{}' dbname='{}' \".format(DB_USER, DB_PASSWORD, HOST, DB_PORT, DB_NAME)\n",
    "\n",
    "#print(a)\n",
    "\n",
    "try:\n",
    "    conn = psycopg2.connect(\n",
    "        \"user='{}' password='{}' host='{}' port='{}' dbname='{}' \".format(DB_USER, DB_PASSWORD, HOST, DB_PORT, DB_NAME))\n",
    "\n",
    "    cursor = conn.cursor()\n",
    "    print('I am connected to the database!')\n",
    "except:\n",
    "    print('I am unable to connect to the database! Please, enter with your credentials.')"
   ]
  },
  {
   "cell_type": "markdown",
   "metadata": {},
   "source": [
    "#### Step 4 - Extracting data"
   ]
  },
  {
   "cell_type": "markdown",
   "metadata": {},
   "source": [
    "#### Check tables"
   ]
  },
  {
   "cell_type": "code",
   "execution_count": 5,
   "metadata": {},
   "outputs": [
    {
     "data": {
      "text/html": [
       "<div>\n",
       "<style scoped>\n",
       "    .dataframe tbody tr th:only-of-type {\n",
       "        vertical-align: middle;\n",
       "    }\n",
       "\n",
       "    .dataframe tbody tr th {\n",
       "        vertical-align: top;\n",
       "    }\n",
       "\n",
       "    .dataframe thead th {\n",
       "        text-align: right;\n",
       "    }\n",
       "</style>\n",
       "<table border=\"1\" class=\"dataframe\">\n",
       "  <thead>\n",
       "    <tr style=\"text-align: right;\">\n",
       "      <th></th>\n",
       "      <th>ct</th>\n",
       "      <th>table</th>\n",
       "    </tr>\n",
       "  </thead>\n",
       "  <tbody>\n",
       "    <tr>\n",
       "      <th>0</th>\n",
       "      <td>14896</td>\n",
       "      <td>staging_songs</td>\n",
       "    </tr>\n",
       "    <tr>\n",
       "      <th>1</th>\n",
       "      <td>8056</td>\n",
       "      <td>staging_events</td>\n",
       "    </tr>\n",
       "    <tr>\n",
       "      <th>2</th>\n",
       "      <td>6813</td>\n",
       "      <td>time</td>\n",
       "    </tr>\n",
       "    <tr>\n",
       "      <th>3</th>\n",
       "      <td>10025</td>\n",
       "      <td>artists</td>\n",
       "    </tr>\n",
       "    <tr>\n",
       "      <th>4</th>\n",
       "      <td>9957</td>\n",
       "      <td>songplays</td>\n",
       "    </tr>\n",
       "    <tr>\n",
       "      <th>5</th>\n",
       "      <td>104</td>\n",
       "      <td>users</td>\n",
       "    </tr>\n",
       "    <tr>\n",
       "      <th>6</th>\n",
       "      <td>14896</td>\n",
       "      <td>songs</td>\n",
       "    </tr>\n",
       "  </tbody>\n",
       "</table>\n",
       "</div>"
      ],
      "text/plain": [
       "      ct           table\n",
       "0  14896   staging_songs\n",
       "1   8056  staging_events\n",
       "2   6813            time\n",
       "3  10025         artists\n",
       "4   9957       songplays\n",
       "5    104           users\n",
       "6  14896           songs"
      ]
     },
     "execution_count": 5,
     "metadata": {},
     "output_type": "execute_result"
    }
   ],
   "source": [
    "# Queries on redshift\n",
    "QS =  \"\"\"select count(1) as ct, 'staging_events' as table\n",
    "        from staging_events\n",
    "        union\n",
    "        select count(1) as ct, 'staging_songs' as table\n",
    "        from staging_songs\n",
    "        union\n",
    "        select count(1) as ct, 'artists' as table\n",
    "        from artists\n",
    "        union\n",
    "        select count(1) as ct, 'songs' as table\n",
    "        from songs\n",
    "        union\n",
    "        select count(1) as ct, 'time' as table\n",
    "        from time\n",
    "        union\n",
    "        select count(1) as ct, 'users' as table\n",
    "        from users\n",
    "        union\n",
    "        select count(1) as ct, 'songplays' as table\n",
    "        from songplays\n",
    "  \"\"\"\n",
    "\n",
    "q1 = sqlio.read_sql_query(QS, conn);\n",
    "q1.head(12)"
   ]
  },
  {
   "cell_type": "markdown",
   "metadata": {},
   "source": [
    "#### Analysis"
   ]
  },
  {
   "cell_type": "code",
   "execution_count": 6,
   "metadata": {},
   "outputs": [],
   "source": [
    "# Queries on redshift\n",
    "sql_query = \"\"\" \n",
    "        SELECT sp.songplay_id,\n",
    "           u.user_id,\n",
    "           s.song_id,\n",
    "           u.last_name,\n",
    "           sp.start_time,\n",
    "           a.name,\n",
    "           s.title\n",
    "        FROM songplays AS sp\n",
    "                 JOIN users AS u\n",
    "                      ON u.user_id = sp.user_id\n",
    "                 JOIN songs AS s\n",
    "                      ON s.song_id = sp.song_id\n",
    "                 JOIN artists AS a\n",
    "                      ON a.artist_id = sp.artist_id\n",
    "                 JOIN time AS t\n",
    "                      ON t.start_time = sp.start_time\n",
    "        ORDER BY sp.start_time\n",
    "        LIMIT 1000;\n",
    "        \"\"\""
   ]
  },
  {
   "cell_type": "code",
   "execution_count": 7,
   "metadata": {},
   "outputs": [],
   "source": [
    "q1 = sqlio.read_sql_query(sql_query, conn);"
   ]
  },
  {
   "cell_type": "markdown",
   "metadata": {},
   "source": [
    "#### Step 5 - Data analysis and validation"
   ]
  },
  {
   "cell_type": "code",
   "execution_count": 8,
   "metadata": {},
   "outputs": [
    {
     "data": {
      "text/plain": [
       "(1000, 7)"
      ]
     },
     "execution_count": 8,
     "metadata": {},
     "output_type": "execute_result"
    }
   ],
   "source": [
    "q1.shape"
   ]
  },
  {
   "cell_type": "code",
   "execution_count": 9,
   "metadata": {},
   "outputs": [
    {
     "data": {
      "text/html": [
       "<div>\n",
       "<style scoped>\n",
       "    .dataframe tbody tr th:only-of-type {\n",
       "        vertical-align: middle;\n",
       "    }\n",
       "\n",
       "    .dataframe tbody tr th {\n",
       "        vertical-align: top;\n",
       "    }\n",
       "\n",
       "    .dataframe thead th {\n",
       "        text-align: right;\n",
       "    }\n",
       "</style>\n",
       "<table border=\"1\" class=\"dataframe\">\n",
       "  <thead>\n",
       "    <tr style=\"text-align: right;\">\n",
       "      <th></th>\n",
       "      <th>songplay_id</th>\n",
       "      <th>user_id</th>\n",
       "      <th>song_id</th>\n",
       "      <th>last_name</th>\n",
       "      <th>start_time</th>\n",
       "      <th>name</th>\n",
       "      <th>title</th>\n",
       "    </tr>\n",
       "  </thead>\n",
       "  <tbody>\n",
       "    <tr>\n",
       "      <th>0</th>\n",
       "      <td>11126</td>\n",
       "      <td>8</td>\n",
       "      <td>SOKOZQI12A8C13C538</td>\n",
       "      <td>Summers</td>\n",
       "      <td>2018-11-01 21:05:52</td>\n",
       "      <td>Mr Oizo</td>\n",
       "      <td>Shortkut</td>\n",
       "    </tr>\n",
       "    <tr>\n",
       "      <th>1</th>\n",
       "      <td>18806</td>\n",
       "      <td>8</td>\n",
       "      <td>SOQVXCF12AF72A419B</td>\n",
       "      <td>Summers</td>\n",
       "      <td>2018-11-01 21:11:13</td>\n",
       "      <td>The Mars Volta</td>\n",
       "      <td>Take The Veil Cerpin Taxt</td>\n",
       "    </tr>\n",
       "    <tr>\n",
       "      <th>2</th>\n",
       "      <td>16945</td>\n",
       "      <td>8</td>\n",
       "      <td>SOGAALD12A6D4F58F2</td>\n",
       "      <td>Summers</td>\n",
       "      <td>2018-11-01 21:11:13</td>\n",
       "      <td>The Mars Volta</td>\n",
       "      <td>Caviglia</td>\n",
       "    </tr>\n",
       "    <tr>\n",
       "      <th>3</th>\n",
       "      <td>13979</td>\n",
       "      <td>8</td>\n",
       "      <td>SOEIQUY12AF72A086A</td>\n",
       "      <td>Summers</td>\n",
       "      <td>2018-11-01 21:11:13</td>\n",
       "      <td>The Mars Volta</td>\n",
       "      <td>Eriatarka</td>\n",
       "    </tr>\n",
       "    <tr>\n",
       "      <th>4</th>\n",
       "      <td>18324</td>\n",
       "      <td>8</td>\n",
       "      <td>SOICPZO12A8C13F712</td>\n",
       "      <td>Summers</td>\n",
       "      <td>2018-11-01 21:17:33</td>\n",
       "      <td>Infected Mushroom</td>\n",
       "      <td>In Front Of Me</td>\n",
       "    </tr>\n",
       "  </tbody>\n",
       "</table>\n",
       "</div>"
      ],
      "text/plain": [
       "   songplay_id  user_id             song_id last_name          start_time  \\\n",
       "0        11126        8  SOKOZQI12A8C13C538   Summers 2018-11-01 21:05:52   \n",
       "1        18806        8  SOQVXCF12AF72A419B   Summers 2018-11-01 21:11:13   \n",
       "2        16945        8  SOGAALD12A6D4F58F2   Summers 2018-11-01 21:11:13   \n",
       "3        13979        8  SOEIQUY12AF72A086A   Summers 2018-11-01 21:11:13   \n",
       "4        18324        8  SOICPZO12A8C13F712   Summers 2018-11-01 21:17:33   \n",
       "\n",
       "                name                      title  \n",
       "0            Mr Oizo                   Shortkut  \n",
       "1     The Mars Volta  Take The Veil Cerpin Taxt  \n",
       "2     The Mars Volta                   Caviglia  \n",
       "3     The Mars Volta                  Eriatarka  \n",
       "4  Infected Mushroom             In Front Of Me  "
      ]
     },
     "execution_count": 9,
     "metadata": {},
     "output_type": "execute_result"
    }
   ],
   "source": [
    "q1.head(5)"
   ]
  },
  {
   "cell_type": "code",
   "execution_count": 10,
   "metadata": {},
   "outputs": [
    {
     "data": {
      "text/html": [
       "<div>\n",
       "<style scoped>\n",
       "    .dataframe tbody tr th:only-of-type {\n",
       "        vertical-align: middle;\n",
       "    }\n",
       "\n",
       "    .dataframe tbody tr th {\n",
       "        vertical-align: top;\n",
       "    }\n",
       "\n",
       "    .dataframe thead th {\n",
       "        text-align: right;\n",
       "    }\n",
       "</style>\n",
       "<table border=\"1\" class=\"dataframe\">\n",
       "  <thead>\n",
       "    <tr style=\"text-align: right;\">\n",
       "      <th></th>\n",
       "      <th>count</th>\n",
       "    </tr>\n",
       "  </thead>\n",
       "  <tbody>\n",
       "    <tr>\n",
       "      <th>0</th>\n",
       "      <td>9957</td>\n",
       "    </tr>\n",
       "  </tbody>\n",
       "</table>\n",
       "</div>"
      ],
      "text/plain": [
       "   count\n",
       "0   9957"
      ]
     },
     "execution_count": 10,
     "metadata": {},
     "output_type": "execute_result"
    }
   ],
   "source": [
    "# Queries on redshift\n",
    "q2 = \"\"\" \n",
    "        SELECT COUNT(*) FROM songplays;\n",
    "        \"\"\"\n",
    "q2 = sqlio.read_sql_query(q2, conn);\n",
    "\n",
    "q2.head(5)"
   ]
  },
  {
   "cell_type": "code",
   "execution_count": 11,
   "metadata": {},
   "outputs": [
    {
     "data": {
      "text/html": [
       "<div>\n",
       "<style scoped>\n",
       "    .dataframe tbody tr th:only-of-type {\n",
       "        vertical-align: middle;\n",
       "    }\n",
       "\n",
       "    .dataframe tbody tr th {\n",
       "        vertical-align: top;\n",
       "    }\n",
       "\n",
       "    .dataframe thead th {\n",
       "        text-align: right;\n",
       "    }\n",
       "</style>\n",
       "<table border=\"1\" class=\"dataframe\">\n",
       "  <thead>\n",
       "    <tr style=\"text-align: right;\">\n",
       "      <th></th>\n",
       "      <th>user</th>\n",
       "      <th>listened</th>\n",
       "    </tr>\n",
       "  </thead>\n",
       "  <tbody>\n",
       "    <tr>\n",
       "      <th>0</th>\n",
       "      <td>Chloe Cuevas</td>\n",
       "      <td>2242</td>\n",
       "    </tr>\n",
       "    <tr>\n",
       "      <th>1</th>\n",
       "      <td>Tegan Levine</td>\n",
       "      <td>2178</td>\n",
       "    </tr>\n",
       "    <tr>\n",
       "      <th>2</th>\n",
       "      <td>Lily Koch</td>\n",
       "      <td>1466</td>\n",
       "    </tr>\n",
       "    <tr>\n",
       "      <th>3</th>\n",
       "      <td>Jacqueline Lynch</td>\n",
       "      <td>1112</td>\n",
       "    </tr>\n",
       "    <tr>\n",
       "      <th>4</th>\n",
       "      <td>Mohammad Rodriguez</td>\n",
       "      <td>894</td>\n",
       "    </tr>\n",
       "  </tbody>\n",
       "</table>\n",
       "</div>"
      ],
      "text/plain": [
       "                 user  listened\n",
       "0        Chloe Cuevas      2242\n",
       "1        Tegan Levine      2178\n",
       "2           Lily Koch      1466\n",
       "3    Jacqueline Lynch      1112\n",
       "4  Mohammad Rodriguez       894"
      ]
     },
     "execution_count": 11,
     "metadata": {},
     "output_type": "execute_result"
    }
   ],
   "source": [
    "# Queries on redshift\n",
    "q3 =  \"\"\"\n",
    "    SELECT (u.first_name + ' ' + u.last_name) as user,\n",
    "            COUNT(s.title) as listened\n",
    "    FROM songplays as sp\n",
    "    JOIN songs as s\n",
    "        ON sp.song_id = s.song_id\n",
    "    JOIN artists as a\n",
    "        ON sp.artist_id = a.artist_id\n",
    "    JOIN users as u\n",
    "        ON sp.user_id = u.user_id\n",
    "    GROUP BY u.first_name, u.last_name\n",
    "    ORDER BY 2 DESC\n",
    "\"\"\"\n",
    "q3 = sqlio.read_sql_query(q3, conn);\n",
    "\n",
    "q3.head(5)"
   ]
  },
  {
   "cell_type": "code",
   "execution_count": 12,
   "metadata": {},
   "outputs": [],
   "source": [
    "# Queries on redshift\n",
    "q4 =  \"\"\"SELECT (u.first_name + ' ' + u.last_name) as user,\n",
    "       s.title                            as song,\n",
    "       a.name                             as artist,\n",
    "       t.day,\n",
    "       t.month,\n",
    "       t.year\n",
    "    FROM songplays as sp\n",
    "         JOIN songs as s\n",
    "              ON sp.song_id = s.song_id\n",
    "         JOIN artists as a\n",
    "              ON sp.artist_id = a.artist_id\n",
    "         JOIN users as u\n",
    "              ON sp.user_id = u.user_id\n",
    "         JOIN time as t\n",
    "              ON sp.start_time = t.start_time\n",
    "    where t.year = 2018\n",
    "          and a.name = 'Depeche Mode'\n",
    "  \"\"\""
   ]
  },
  {
   "cell_type": "code",
   "execution_count": 13,
   "metadata": {},
   "outputs": [
    {
     "data": {
      "text/html": [
       "<div>\n",
       "<style scoped>\n",
       "    .dataframe tbody tr th:only-of-type {\n",
       "        vertical-align: middle;\n",
       "    }\n",
       "\n",
       "    .dataframe tbody tr th {\n",
       "        vertical-align: top;\n",
       "    }\n",
       "\n",
       "    .dataframe thead th {\n",
       "        text-align: right;\n",
       "    }\n",
       "</style>\n",
       "<table border=\"1\" class=\"dataframe\">\n",
       "  <thead>\n",
       "    <tr style=\"text-align: right;\">\n",
       "      <th></th>\n",
       "      <th>user</th>\n",
       "      <th>song</th>\n",
       "      <th>artist</th>\n",
       "      <th>day</th>\n",
       "      <th>month</th>\n",
       "      <th>year</th>\n",
       "    </tr>\n",
       "  </thead>\n",
       "  <tbody>\n",
       "    <tr>\n",
       "      <th>0</th>\n",
       "      <td>Layla Griffin</td>\n",
       "      <td>Precious (Motor Remix)</td>\n",
       "      <td>Depeche Mode</td>\n",
       "      <td>19</td>\n",
       "      <td>11</td>\n",
       "      <td>2018</td>\n",
       "    </tr>\n",
       "    <tr>\n",
       "      <th>1</th>\n",
       "      <td>Mohammad Rodriguez</td>\n",
       "      <td>Precious (Motor Remix)</td>\n",
       "      <td>Depeche Mode</td>\n",
       "      <td>26</td>\n",
       "      <td>11</td>\n",
       "      <td>2018</td>\n",
       "    </tr>\n",
       "    <tr>\n",
       "      <th>2</th>\n",
       "      <td>Mohammad Rodriguez</td>\n",
       "      <td>Precious (Motor Remix)</td>\n",
       "      <td>Depeche Mode</td>\n",
       "      <td>26</td>\n",
       "      <td>11</td>\n",
       "      <td>2018</td>\n",
       "    </tr>\n",
       "    <tr>\n",
       "      <th>3</th>\n",
       "      <td>Chloe Cuevas</td>\n",
       "      <td>Precious (Motor Remix)</td>\n",
       "      <td>Depeche Mode</td>\n",
       "      <td>15</td>\n",
       "      <td>11</td>\n",
       "      <td>2018</td>\n",
       "    </tr>\n",
       "    <tr>\n",
       "      <th>4</th>\n",
       "      <td>Chloe Cuevas</td>\n",
       "      <td>Precious (Motor Remix)</td>\n",
       "      <td>Depeche Mode</td>\n",
       "      <td>15</td>\n",
       "      <td>11</td>\n",
       "      <td>2018</td>\n",
       "    </tr>\n",
       "    <tr>\n",
       "      <th>5</th>\n",
       "      <td>Layla Griffin</td>\n",
       "      <td>Peace (Justus Köhncke Extended Disco Club Vocal)</td>\n",
       "      <td>Depeche Mode</td>\n",
       "      <td>19</td>\n",
       "      <td>11</td>\n",
       "      <td>2018</td>\n",
       "    </tr>\n",
       "  </tbody>\n",
       "</table>\n",
       "</div>"
      ],
      "text/plain": [
       "                 user                                              song  \\\n",
       "0       Layla Griffin                            Precious (Motor Remix)   \n",
       "1  Mohammad Rodriguez                            Precious (Motor Remix)   \n",
       "2  Mohammad Rodriguez                            Precious (Motor Remix)   \n",
       "3        Chloe Cuevas                            Precious (Motor Remix)   \n",
       "4        Chloe Cuevas                            Precious (Motor Remix)   \n",
       "5       Layla Griffin  Peace (Justus Köhncke Extended Disco Club Vocal)   \n",
       "\n",
       "         artist  day  month  year  \n",
       "0  Depeche Mode   19     11  2018  \n",
       "1  Depeche Mode   26     11  2018  \n",
       "2  Depeche Mode   26     11  2018  \n",
       "3  Depeche Mode   15     11  2018  \n",
       "4  Depeche Mode   15     11  2018  \n",
       "5  Depeche Mode   19     11  2018  "
      ]
     },
     "execution_count": 13,
     "metadata": {},
     "output_type": "execute_result"
    }
   ],
   "source": [
    "q4r = sqlio.read_sql_query(q4, conn);\n",
    "\n",
    "q4r.head(6)"
   ]
  },
  {
   "cell_type": "markdown",
   "metadata": {},
   "source": [
    "-----------"
   ]
  }
 ],
 "metadata": {
  "kernelspec": {
   "display_name": "Python 3",
   "language": "python",
   "name": "python3"
  },
  "language_info": {
   "codemirror_mode": {
    "name": "ipython",
    "version": 3
   },
   "file_extension": ".py",
   "mimetype": "text/x-python",
   "name": "python",
   "nbconvert_exporter": "python",
   "pygments_lexer": "ipython3",
   "version": "3.9.1"
  }
 },
 "nbformat": 4,
 "nbformat_minor": 2
}
