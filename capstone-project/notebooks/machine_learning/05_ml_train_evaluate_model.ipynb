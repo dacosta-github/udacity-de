{
 "cells": [
  {
   "cell_type": "markdown",
   "metadata": {},
   "source": [
    "# Data Engineer Nanodegree\n",
    "\n",
    "## Capstone project: Financial companies complaints analysis\n",
    "\n",
    "\n",
    "### Task: Complaints Text Classification \n",
    "\n",
    "#### 00. Prepare environment\n",
    "\n",
    "The first step is the is to prepare the Python + Jupyter Notebooks environment to run the various models. To develop this project I consider several libraries that help us to explore, process, train and validate our data and models.\n",
    "\n",
    "#### 01. Data Collection \n",
    "\n",
    "After understanding the problem at hand, that I proposed to respond by considering the methodology. Then I proceed with the first step of collecting and loading the data into our platform.\n",
    "\n",
    "The purpose of this notebook, is related to the collection and storage of data so that they can be worked on in a next stage of exploration (It is not our concern in this notebook to explore the data, that I'll leave for notebook 03 - Data Exploration)\n",
    "\n",
    "For this project I'll use a dataset called Consumer Complaint Database.\n",
    "These are real world complaints received about financial products and services. Each complaint has been labeled with a specific product; therefore, this is a supervised text classification problem. With the aim to classify future complaints based on its content, I used different ML algorithms can make more accurate predictions (i.e., classify the complaint in one of the product categories)."
   ]
  },
  {
   "cell_type": "markdown",
   "metadata": {},
   "source": [
    "This set of complaints data is made from a single file, and I can read it using pandas."
   ]
  },
  {
   "cell_type": "markdown",
   "metadata": {},
   "source": [
    "**Step 1 - Importing packages**"
   ]
  },
  {
   "cell_type": "code",
   "execution_count": 1,
   "metadata": {},
   "outputs": [
    {
     "name": "stderr",
     "output_type": "stream",
     "text": [
      "Since the GPL-licensed package `unidecode` is not installed, using Python's `unicodedata` package which yields worse results.\n"
     ]
    }
   ],
   "source": [
    "# General:\n",
    "import pandas as pd\n",
    "import numpy as np\n",
    "import os\n",
    "import re\n",
    "import pickle\n",
    "import subprocess\n",
    "\n",
    "try:\n",
    "    from stop_words import get_stop_words\n",
    "except ImportError:\n",
    "    subprocess.check_call([sys.executable, \"-m\", \"pip\", \"install\", 'stop-words'])\n",
    "finally:\n",
    "    from stop_words import get_stop_words\n",
    "\n",
    "## Clean Text\n",
    "try:\n",
    "    from cleantext import clean\n",
    "except ImportError:\n",
    "    subprocess.check_call([sys.executable, \"-m\", \"pip\", \"install\", 'clean-text'])\n",
    "finally:\n",
    "    from cleantext import clean\n",
    "\n",
    "## Clean Text\n",
    "try:\n",
    "    import sweetviz as sv\n",
    "except ImportError:\n",
    "    subprocess.check_call([sys.executable, \"-m\", \"pip\", \"install\", 'sweetviz'])\n",
    "finally:\n",
    "    import sweetviz as sv\n",
    "    \n",
    "    \n",
    "\n",
    "\n",
    "#Seed - https://www.mikulskibartosz.name/how-to-set-the-global-random_state-in-scikit-learn/\n",
    "seed = 90 #np.random.seed(31415)\n",
    "\n",
    "\n",
    "# Pre-Processing\n",
    "from sklearn.preprocessing import LabelEncoder\n",
    "\n",
    "from stop_words import get_stop_words\n",
    "from sklearn.feature_extraction.text import TfidfVectorizer\n",
    "\n",
    "from sklearn.feature_extraction.text import CountVectorizer\n",
    "from sklearn.feature_extraction.text import TfidfTransformer\n",
    "# Classifiers\n",
    "from sklearn import model_selection\n",
    "from sklearn.feature_selection import chi2\n",
    "from sklearn.linear_model import LogisticRegression\n",
    "from sklearn.svm import LinearSVC, SVC\n",
    "\n",
    "# Metrics to score classifiers\n",
    "from sklearn.metrics import confusion_matrix, classification_report\n",
    "from sklearn.metrics import accuracy_score, precision_score, recall_score, f1_score, auc, roc_curve, log_loss\n",
    "\n",
    "# Data splitting, CV\n",
    "from sklearn.model_selection import train_test_split,cross_val_score, KFold, StratifiedKFold\n",
    "\n",
    "\n",
    "# EDA\n",
    "import sweetviz as sv\n",
    "\n",
    "# Ploting\n",
    "import matplotlib.pyplot as plt\n",
    "import seaborn as sns\n",
    "\n",
    "\n",
    "\n",
    "# My libraries:\n",
    "import sys\n",
    "sys.path.insert(0, '../../src')\n",
    "sys.path.insert(0, '../../src/utils/')\n",
    "\n",
    "from utils.helpers import download, convert_json_to_csv, split_csv, save_pickle\n",
    "\n",
    "\n",
    "# Warnings:\n",
    "import warnings; warnings.simplefilter('ignore')"
   ]
  },
  {
   "cell_type": "markdown",
   "metadata": {},
   "source": [
    "**Step 2 - Define URL and Folder Destination**"
   ]
  },
  {
   "cell_type": "code",
   "execution_count": 2,
   "metadata": {},
   "outputs": [],
   "source": [
    "dest_folder = '../data/source'\n",
    "url = \"https://files.consumerfinance.gov/ccdb/complaints.csv.zip\""
   ]
  },
  {
   "cell_type": "markdown",
   "metadata": {},
   "source": [
    "**Step 3 - Downloading and store the file**"
   ]
  },
  {
   "cell_type": "code",
   "execution_count": 3,
   "metadata": {},
   "outputs": [
    {
     "name": "stdout",
     "output_type": "stream",
     "text": [
      "The complaints.csv.zip file exist in ../data/source folder (../../data/source/complaints.csv.zip).\n"
     ]
    }
   ],
   "source": [
    "data_file = download(url, dest_folder, unzip=1)"
   ]
  },
  {
   "cell_type": "markdown",
   "metadata": {},
   "source": [
    "**Step 4 - File and data validation**"
   ]
  },
  {
   "cell_type": "code",
   "execution_count": 4,
   "metadata": {},
   "outputs": [
    {
     "name": "stdout",
     "output_type": "stream",
     "text": [
      "Complaints data read successfully!\n"
     ]
    }
   ],
   "source": [
    "# Load dataset with pandas to a variable\n",
    "df_complaints = pd.read_csv(data_file);\n",
    "print(\"Complaints data read successfully!\")"
   ]
  },
  {
   "cell_type": "code",
   "execution_count": 5,
   "metadata": {},
   "outputs": [
    {
     "data": {
      "text/plain": [
       "(2021440, 18)"
      ]
     },
     "execution_count": 5,
     "metadata": {},
     "output_type": "execute_result"
    }
   ],
   "source": [
    "df_complaints.shape"
   ]
  },
  {
   "cell_type": "markdown",
   "metadata": {},
   "source": [
    "In a first analysis the data set has a structure of 18 columns and about 1.8 million records."
   ]
  },
  {
   "cell_type": "code",
   "execution_count": 6,
   "metadata": {},
   "outputs": [
    {
     "data": {
      "text/html": [
       "<div>\n",
       "<style scoped>\n",
       "    .dataframe tbody tr th:only-of-type {\n",
       "        vertical-align: middle;\n",
       "    }\n",
       "\n",
       "    .dataframe tbody tr th {\n",
       "        vertical-align: top;\n",
       "    }\n",
       "\n",
       "    .dataframe thead th {\n",
       "        text-align: right;\n",
       "    }\n",
       "</style>\n",
       "<table border=\"1\" class=\"dataframe\">\n",
       "  <thead>\n",
       "    <tr style=\"text-align: right;\">\n",
       "      <th></th>\n",
       "      <th>0</th>\n",
       "    </tr>\n",
       "  </thead>\n",
       "  <tbody>\n",
       "    <tr>\n",
       "      <th>Date received</th>\n",
       "      <td>2019-09-24</td>\n",
       "    </tr>\n",
       "    <tr>\n",
       "      <th>Product</th>\n",
       "      <td>Debt collection</td>\n",
       "    </tr>\n",
       "    <tr>\n",
       "      <th>Sub-product</th>\n",
       "      <td>I do not know</td>\n",
       "    </tr>\n",
       "    <tr>\n",
       "      <th>Issue</th>\n",
       "      <td>Attempts to collect debt not owed</td>\n",
       "    </tr>\n",
       "    <tr>\n",
       "      <th>Sub-issue</th>\n",
       "      <td>Debt is not yours</td>\n",
       "    </tr>\n",
       "    <tr>\n",
       "      <th>Consumer complaint narrative</th>\n",
       "      <td>transworld systems inc. \\nis trying to collect...</td>\n",
       "    </tr>\n",
       "    <tr>\n",
       "      <th>Company public response</th>\n",
       "      <td>NaN</td>\n",
       "    </tr>\n",
       "    <tr>\n",
       "      <th>Company</th>\n",
       "      <td>TRANSWORLD SYSTEMS INC</td>\n",
       "    </tr>\n",
       "    <tr>\n",
       "      <th>State</th>\n",
       "      <td>FL</td>\n",
       "    </tr>\n",
       "    <tr>\n",
       "      <th>ZIP code</th>\n",
       "      <td>335XX</td>\n",
       "    </tr>\n",
       "    <tr>\n",
       "      <th>Tags</th>\n",
       "      <td>NaN</td>\n",
       "    </tr>\n",
       "    <tr>\n",
       "      <th>Consumer consent provided?</th>\n",
       "      <td>Consent provided</td>\n",
       "    </tr>\n",
       "    <tr>\n",
       "      <th>Submitted via</th>\n",
       "      <td>Web</td>\n",
       "    </tr>\n",
       "    <tr>\n",
       "      <th>Date sent to company</th>\n",
       "      <td>2019-09-24</td>\n",
       "    </tr>\n",
       "    <tr>\n",
       "      <th>Company response to consumer</th>\n",
       "      <td>Closed with explanation</td>\n",
       "    </tr>\n",
       "    <tr>\n",
       "      <th>Timely response?</th>\n",
       "      <td>Yes</td>\n",
       "    </tr>\n",
       "    <tr>\n",
       "      <th>Consumer disputed?</th>\n",
       "      <td>NaN</td>\n",
       "    </tr>\n",
       "    <tr>\n",
       "      <th>Complaint ID</th>\n",
       "      <td>3384392</td>\n",
       "    </tr>\n",
       "  </tbody>\n",
       "</table>\n",
       "</div>"
      ],
      "text/plain": [
       "                                                                              0\n",
       "Date received                                                        2019-09-24\n",
       "Product                                                         Debt collection\n",
       "Sub-product                                                       I do not know\n",
       "Issue                                         Attempts to collect debt not owed\n",
       "Sub-issue                                                     Debt is not yours\n",
       "Consumer complaint narrative  transworld systems inc. \\nis trying to collect...\n",
       "Company public response                                                     NaN\n",
       "Company                                                  TRANSWORLD SYSTEMS INC\n",
       "State                                                                        FL\n",
       "ZIP code                                                                  335XX\n",
       "Tags                                                                        NaN\n",
       "Consumer consent provided?                                     Consent provided\n",
       "Submitted via                                                               Web\n",
       "Date sent to company                                                 2019-09-24\n",
       "Company response to consumer                            Closed with explanation\n",
       "Timely response?                                                            Yes\n",
       "Consumer disputed?                                                          NaN\n",
       "Complaint ID                                                            3384392"
      ]
     },
     "execution_count": 6,
     "metadata": {},
     "output_type": "execute_result"
    }
   ],
   "source": [
    "# print out the first transpose row of data info\n",
    "df_complaints.head(1).T"
   ]
  },
  {
   "cell_type": "code",
   "execution_count": null,
   "metadata": {},
   "outputs": [],
   "source": []
  },
  {
   "cell_type": "markdown",
   "metadata": {},
   "source": [
    "### 02. Data Exploration and Visualisation\n",
    "\n",
    "The first step in working with the data set is to load the data and identify what information is included in the data set. This is an important step to eventually work with this data, and to know what kind of characteristics I have to work with when transforming and grouping the data!\n",
    "\n",
    "In this way, I prepare this notebook to do all the data exploration and pattern observation on the features given to it and the data distribution, as well as the definition of our final data set, to be worked on in the next step of pre-processing and data feature engineering.\n",
    "\n",
    "#### Exploratory Data Analysis (EDA)\n",
    "With resources from different EDA and data Pre-Processing methodologies and libraries, I'll explore and visualise this data from the existing data set and analyse the possible metrics that will be used to understand the solution to the problem I propose to answer. Thus, I'll try to identify the relationship between each of the characteristics and features of the complaint.\n",
    "\n",
    "I'll analyse:\n",
    "* A general statistical summary of the data set, using EDA visualization tools\n",
    "* Distribution of `complaints`, `product`, `sub_product`, `issue` and `sub_issue`\n",
    "* Relationship of complaint text length and assigned product\n",
    "* Relationship of the complaint narrative to the product allocated\n",
    "* Relationship of the words of the complaint to the product\n",
    "* Try to identify the relationship between the features\n",
    "* I'll try to reduce our data subset"
   ]
  },
  {
   "cell_type": "code",
   "execution_count": 7,
   "metadata": {},
   "outputs": [
    {
     "data": {
      "text/html": [
       "<div>\n",
       "<style scoped>\n",
       "    .dataframe tbody tr th:only-of-type {\n",
       "        vertical-align: middle;\n",
       "    }\n",
       "\n",
       "    .dataframe tbody tr th {\n",
       "        vertical-align: top;\n",
       "    }\n",
       "\n",
       "    .dataframe thead th {\n",
       "        text-align: right;\n",
       "    }\n",
       "</style>\n",
       "<table border=\"1\" class=\"dataframe\">\n",
       "  <thead>\n",
       "    <tr style=\"text-align: right;\">\n",
       "      <th></th>\n",
       "      <th>0</th>\n",
       "      <th>1</th>\n",
       "    </tr>\n",
       "  </thead>\n",
       "  <tbody>\n",
       "    <tr>\n",
       "      <th>Date received</th>\n",
       "      <td>2019-09-24</td>\n",
       "      <td>2019-09-19</td>\n",
       "    </tr>\n",
       "    <tr>\n",
       "      <th>Product</th>\n",
       "      <td>Debt collection</td>\n",
       "      <td>Credit reporting, credit repair services, or o...</td>\n",
       "    </tr>\n",
       "    <tr>\n",
       "      <th>Sub-product</th>\n",
       "      <td>I do not know</td>\n",
       "      <td>Credit reporting</td>\n",
       "    </tr>\n",
       "    <tr>\n",
       "      <th>Issue</th>\n",
       "      <td>Attempts to collect debt not owed</td>\n",
       "      <td>Incorrect information on your report</td>\n",
       "    </tr>\n",
       "    <tr>\n",
       "      <th>Sub-issue</th>\n",
       "      <td>Debt is not yours</td>\n",
       "      <td>Information belongs to someone else</td>\n",
       "    </tr>\n",
       "    <tr>\n",
       "      <th>Consumer complaint narrative</th>\n",
       "      <td>transworld systems inc. \\nis trying to collect...</td>\n",
       "      <td>NaN</td>\n",
       "    </tr>\n",
       "    <tr>\n",
       "      <th>Company public response</th>\n",
       "      <td>NaN</td>\n",
       "      <td>Company has responded to the consumer and the ...</td>\n",
       "    </tr>\n",
       "    <tr>\n",
       "      <th>Company</th>\n",
       "      <td>TRANSWORLD SYSTEMS INC</td>\n",
       "      <td>Experian Information Solutions Inc.</td>\n",
       "    </tr>\n",
       "    <tr>\n",
       "      <th>State</th>\n",
       "      <td>FL</td>\n",
       "      <td>PA</td>\n",
       "    </tr>\n",
       "    <tr>\n",
       "      <th>ZIP code</th>\n",
       "      <td>335XX</td>\n",
       "      <td>15206</td>\n",
       "    </tr>\n",
       "    <tr>\n",
       "      <th>Tags</th>\n",
       "      <td>NaN</td>\n",
       "      <td>NaN</td>\n",
       "    </tr>\n",
       "    <tr>\n",
       "      <th>Consumer consent provided?</th>\n",
       "      <td>Consent provided</td>\n",
       "      <td>Consent not provided</td>\n",
       "    </tr>\n",
       "    <tr>\n",
       "      <th>Submitted via</th>\n",
       "      <td>Web</td>\n",
       "      <td>Web</td>\n",
       "    </tr>\n",
       "    <tr>\n",
       "      <th>Date sent to company</th>\n",
       "      <td>2019-09-24</td>\n",
       "      <td>2019-09-20</td>\n",
       "    </tr>\n",
       "    <tr>\n",
       "      <th>Company response to consumer</th>\n",
       "      <td>Closed with explanation</td>\n",
       "      <td>Closed with non-monetary relief</td>\n",
       "    </tr>\n",
       "    <tr>\n",
       "      <th>Timely response?</th>\n",
       "      <td>Yes</td>\n",
       "      <td>Yes</td>\n",
       "    </tr>\n",
       "    <tr>\n",
       "      <th>Consumer disputed?</th>\n",
       "      <td>NaN</td>\n",
       "      <td>NaN</td>\n",
       "    </tr>\n",
       "    <tr>\n",
       "      <th>Complaint ID</th>\n",
       "      <td>3384392</td>\n",
       "      <td>3379500</td>\n",
       "    </tr>\n",
       "  </tbody>\n",
       "</table>\n",
       "</div>"
      ],
      "text/plain": [
       "                                                                              0  \\\n",
       "Date received                                                        2019-09-24   \n",
       "Product                                                         Debt collection   \n",
       "Sub-product                                                       I do not know   \n",
       "Issue                                         Attempts to collect debt not owed   \n",
       "Sub-issue                                                     Debt is not yours   \n",
       "Consumer complaint narrative  transworld systems inc. \\nis trying to collect...   \n",
       "Company public response                                                     NaN   \n",
       "Company                                                  TRANSWORLD SYSTEMS INC   \n",
       "State                                                                        FL   \n",
       "ZIP code                                                                  335XX   \n",
       "Tags                                                                        NaN   \n",
       "Consumer consent provided?                                     Consent provided   \n",
       "Submitted via                                                               Web   \n",
       "Date sent to company                                                 2019-09-24   \n",
       "Company response to consumer                            Closed with explanation   \n",
       "Timely response?                                                            Yes   \n",
       "Consumer disputed?                                                          NaN   \n",
       "Complaint ID                                                            3384392   \n",
       "\n",
       "                                                                              1  \n",
       "Date received                                                        2019-09-19  \n",
       "Product                       Credit reporting, credit repair services, or o...  \n",
       "Sub-product                                                    Credit reporting  \n",
       "Issue                                      Incorrect information on your report  \n",
       "Sub-issue                                   Information belongs to someone else  \n",
       "Consumer complaint narrative                                                NaN  \n",
       "Company public response       Company has responded to the consumer and the ...  \n",
       "Company                                     Experian Information Solutions Inc.  \n",
       "State                                                                        PA  \n",
       "ZIP code                                                                  15206  \n",
       "Tags                                                                        NaN  \n",
       "Consumer consent provided?                                 Consent not provided  \n",
       "Submitted via                                                               Web  \n",
       "Date sent to company                                                 2019-09-20  \n",
       "Company response to consumer                    Closed with non-monetary relief  \n",
       "Timely response?                                                            Yes  \n",
       "Consumer disputed?                                                          NaN  \n",
       "Complaint ID                                                            3379500  "
      ]
     },
     "execution_count": 7,
     "metadata": {},
     "output_type": "execute_result"
    }
   ],
   "source": [
    "df_complaints.head(2).T"
   ]
  },
  {
   "cell_type": "markdown",
   "metadata": {},
   "source": [
    "**Step 3 - A few general statistics about dataset**\n",
    "\n",
    "I'll analyze here the high-level statistics of the complaint"
   ]
  },
  {
   "cell_type": "code",
   "execution_count": 8,
   "metadata": {},
   "outputs": [
    {
     "name": "stdout",
     "output_type": "stream",
     "text": [
      "<class 'pandas.core.frame.DataFrame'>\n",
      "RangeIndex: 2021440 entries, 0 to 2021439\n",
      "Data columns (total 18 columns):\n",
      " #   Column                        Dtype \n",
      "---  ------                        ----- \n",
      " 0   Date received                 object\n",
      " 1   Product                       object\n",
      " 2   Sub-product                   object\n",
      " 3   Issue                         object\n",
      " 4   Sub-issue                     object\n",
      " 5   Consumer complaint narrative  object\n",
      " 6   Company public response       object\n",
      " 7   Company                       object\n",
      " 8   State                         object\n",
      " 9   ZIP code                      object\n",
      " 10  Tags                          object\n",
      " 11  Consumer consent provided?    object\n",
      " 12  Submitted via                 object\n",
      " 13  Date sent to company          object\n",
      " 14  Company response to consumer  object\n",
      " 15  Timely response?              object\n",
      " 16  Consumer disputed?            object\n",
      " 17  Complaint ID                  int64 \n",
      "dtypes: int64(1), object(17)\n",
      "memory usage: 277.6+ MB\n"
     ]
    }
   ],
   "source": [
    "df_complaints.info()"
   ]
  },
  {
   "cell_type": "markdown",
   "metadata": {},
   "source": [
    "I find that there are many records to be found, particularly in the narrative of the complaint. This attribute is very important for our project.\n",
    "\n",
    "Therefore, I'll have to filter all the complaints that do not have a narrative, because they do not interest us."
   ]
  },
  {
   "cell_type": "code",
   "execution_count": 9,
   "metadata": {},
   "outputs": [],
   "source": [
    "# Convert int to string\n",
    "def to_str(var):\n",
    "    return str(list(np.reshape(np.asarray(var), (1, np.size(var)))[0]))[1:-1];"
   ]
  },
  {
   "cell_type": "code",
   "execution_count": 10,
   "metadata": {},
   "outputs": [
    {
     "name": "stdout",
     "output_type": "stream",
     "text": [
      "Consumer complaint narrative % : 34.0\n",
      "Sub-product % : 88.4\n",
      "Sub-issue % : 100.0\n",
      "Issue % : 100.0\n",
      "Product % : 70.0\n"
     ]
    }
   ],
   "source": [
    "# Percentage of columns with text\n",
    "complaints_with_narrative = df_complaints['Consumer complaint narrative'].notnull().sum()\n",
    "sub_product_with_text = df_complaints['Sub-product'].notnull().sum()\n",
    "issue_with_text = df_complaints['Issue'].notnull().sum()\n",
    "product_with_text  = df_complaints['Product'].notnull().sum()\n",
    "sub_issue_with_text = df_complaints['Sub-issue'].notnull().sum()\n",
    "\n",
    "print('Consumer complaint narrative % : ' + to_str(round((complaints_with_narrative/len(df_complaints)*100),1)));\n",
    "print('Sub-product % : ' + to_str(round((sub_product_with_text/len(df_complaints)*100),1)));\n",
    "print('Sub-issue % : ' + to_str(round((product_with_text/len(df_complaints)*100),1)));\n",
    "print('Issue % : ' + to_str(round((issue_with_text/len(df_complaints)*100),1)));\n",
    "print('Product % : ' + to_str(round((sub_issue_with_text/len(df_complaints)*100),1)));"
   ]
  },
  {
   "cell_type": "markdown",
   "metadata": {},
   "source": [
    "Analysing the above metrics, one realizes that the data set is considerably large to work locally. I'll have to filter the data set in some way so that I can explore and train it.\n",
    "\n",
    "After analysis and taking into account the problem I have proposed, I'll select only the columns that interest us and I'll rename them, considering a new monenclature. The data set contains several characteristics that will not be necessary to solve the classification problem I propose to do. So, for a better analysis and understanding of the text classification problem, I'll build a new data set with fewer columns and with a new sorting."
   ]
  },
  {
   "cell_type": "markdown",
   "metadata": {},
   "source": [
    "Data set considering"
   ]
  },
  {
   "cell_type": "code",
   "execution_count": 11,
   "metadata": {},
   "outputs": [
    {
     "data": {
      "text/html": [
       "<div>\n",
       "<style scoped>\n",
       "    .dataframe tbody tr th:only-of-type {\n",
       "        vertical-align: middle;\n",
       "    }\n",
       "\n",
       "    .dataframe tbody tr th {\n",
       "        vertical-align: top;\n",
       "    }\n",
       "\n",
       "    .dataframe thead th {\n",
       "        text-align: right;\n",
       "    }\n",
       "</style>\n",
       "<table border=\"1\" class=\"dataframe\">\n",
       "  <thead>\n",
       "    <tr style=\"text-align: right;\">\n",
       "      <th></th>\n",
       "      <th>complaint_id</th>\n",
       "      <th>complaint_text</th>\n",
       "      <th>issue</th>\n",
       "      <th>sub_issue</th>\n",
       "      <th>product</th>\n",
       "      <th>sub_product</th>\n",
       "      <th>company</th>\n",
       "      <th>complaint_text_length</th>\n",
       "    </tr>\n",
       "  </thead>\n",
       "  <tbody>\n",
       "    <tr>\n",
       "      <th>0</th>\n",
       "      <td>3384392</td>\n",
       "      <td>transworld systems inc. \\nis trying to collect...</td>\n",
       "      <td>Attempts to collect debt not owed</td>\n",
       "      <td>Debt is not yours</td>\n",
       "      <td>Debt collection</td>\n",
       "      <td>I do not know</td>\n",
       "      <td>TRANSWORLD SYSTEMS INC</td>\n",
       "      <td>98.0</td>\n",
       "    </tr>\n",
       "    <tr>\n",
       "      <th>1</th>\n",
       "      <td>3379500</td>\n",
       "      <td>NaN</td>\n",
       "      <td>Incorrect information on your report</td>\n",
       "      <td>Information belongs to someone else</td>\n",
       "      <td>Credit reporting, credit repair services, or o...</td>\n",
       "      <td>Credit reporting</td>\n",
       "      <td>Experian Information Solutions Inc.</td>\n",
       "      <td>NaN</td>\n",
       "    </tr>\n",
       "    <tr>\n",
       "      <th>2</th>\n",
       "      <td>3433198</td>\n",
       "      <td>Over the past 2 weeks, I have been receiving e...</td>\n",
       "      <td>Communication tactics</td>\n",
       "      <td>Frequent or repeated calls</td>\n",
       "      <td>Debt collection</td>\n",
       "      <td>I do not know</td>\n",
       "      <td>Diversified Consultants, Inc.</td>\n",
       "      <td>395.0</td>\n",
       "    </tr>\n",
       "  </tbody>\n",
       "</table>\n",
       "</div>"
      ],
      "text/plain": [
       "   complaint_id                                     complaint_text  \\\n",
       "0       3384392  transworld systems inc. \\nis trying to collect...   \n",
       "1       3379500                                                NaN   \n",
       "2       3433198  Over the past 2 weeks, I have been receiving e...   \n",
       "\n",
       "                                  issue                            sub_issue  \\\n",
       "0     Attempts to collect debt not owed                    Debt is not yours   \n",
       "1  Incorrect information on your report  Information belongs to someone else   \n",
       "2                 Communication tactics           Frequent or repeated calls   \n",
       "\n",
       "                                             product       sub_product  \\\n",
       "0                                    Debt collection     I do not know   \n",
       "1  Credit reporting, credit repair services, or o...  Credit reporting   \n",
       "2                                    Debt collection     I do not know   \n",
       "\n",
       "                               company  complaint_text_length  \n",
       "0               TRANSWORLD SYSTEMS INC                   98.0  \n",
       "1  Experian Information Solutions Inc.                    NaN  \n",
       "2        Diversified Consultants, Inc.                  395.0  "
      ]
     },
     "execution_count": 11,
     "metadata": {},
     "output_type": "execute_result"
    }
   ],
   "source": [
    "# rename the columns considered\n",
    "df_complaints = df_complaints.rename(index=str, columns={\"Product\": \"product\", \"Sub-product\": \"sub_product\", \"Issue\": \"issue\", \"Sub-issue\": \"sub_issue\", \"Consumer complaint narrative\": \"complaint_text\", \"Complaint ID\": \"complaint_id\", \"Company\": \"company\"})\n",
    "\n",
    "# Create a new dataframe with 6 columns\n",
    "df_complaints = df_complaints[['complaint_id', 'complaint_text', 'issue', 'sub_issue','product', 'sub_product', 'company']].copy()\n",
    "\n",
    "# new column for understand lenght of complaint_text - I have situations where there are no narratives.\n",
    "df_complaints['complaint_text_length'] = df_complaints['complaint_text'].str.len()\n",
    "\n",
    "df_complaints.head(3)"
   ]
  },
  {
   "cell_type": "code",
   "execution_count": 12,
   "metadata": {},
   "outputs": [],
   "source": [
    "df_complaints = df_complaints[pd.notnull(df_complaints['complaint_text'])]"
   ]
  },
  {
   "cell_type": "code",
   "execution_count": 13,
   "metadata": {},
   "outputs": [
    {
     "data": {
      "text/plain": [
       "(688151, 8)"
      ]
     },
     "execution_count": 13,
     "metadata": {},
     "output_type": "execute_result"
    }
   ],
   "source": [
    "df_complaints.shape"
   ]
  },
  {
   "cell_type": "markdown",
   "metadata": {},
   "source": [
    "I have reduced data set in 60%."
   ]
  },
  {
   "cell_type": "code",
   "execution_count": 14,
   "metadata": {},
   "outputs": [],
   "source": [
    "# Remove % of data in dataframe    \n",
    "def reduce_dataset(df, column: str, value: str,  frac: float):\n",
    "    \"\"\" this function recive a input dataset and based on column and value reduce this same data set by fraction sample\n",
    "        df: a dataframe\n",
    "        column: a string\n",
    "        value: \n",
    "        frac: value to delete\n",
    "        return: modified initial dataframe without % of data based on column and value\n",
    "    \"\"\"    \n",
    "    try:\n",
    "        df = \\\n",
    "            df.drop(\n",
    "            df[df[column] == value].sample(frac=frac).index)\n",
    "        \n",
    "        return df\n",
    "    \n",
    "    except:\n",
    "        return df;"
   ]
  },
  {
   "cell_type": "code",
   "execution_count": 15,
   "metadata": {},
   "outputs": [
    {
     "name": "stdout",
     "output_type": "stream",
     "text": [
      "Complaint Narrative with text %: 100.0\n"
     ]
    }
   ],
   "source": [
    "# Percentage of columns with text\n",
    "complaints_with_narrative = df_complaints['complaint_text'].notnull().sum()\n",
    "print('Complaint Narrative with text %: ' + to_str(round((complaints_with_narrative/len(df_complaints)*100),1)));"
   ]
  },
  {
   "cell_type": "code",
   "execution_count": 16,
   "metadata": {},
   "outputs": [
    {
     "data": {
      "text/plain": [
       "(688151, 8)"
      ]
     },
     "execution_count": 16,
     "metadata": {},
     "output_type": "execute_result"
    }
   ],
   "source": [
    "df_complaints.shape"
   ]
  },
  {
   "cell_type": "markdown",
   "metadata": {},
   "source": [
    "In the next cell, print out some statistics about the length of text"
   ]
  },
  {
   "cell_type": "code",
   "execution_count": 17,
   "metadata": {},
   "outputs": [],
   "source": [
    "df_complaints['log_length'] = df_complaints.complaint_text_length.apply(np.log2)"
   ]
  },
  {
   "cell_type": "code",
   "execution_count": 18,
   "metadata": {},
   "outputs": [
    {
     "name": "stdout",
     "output_type": "stream",
     "text": [
      "Metrics for Complaint Text length\n",
      "---\n",
      "Mean: 1065.49\n",
      "Median: 702\n",
      "Max: 32317.0\n",
      "90th Percentile: 2287\n",
      "95th Percentile: 3214\n"
     ]
    }
   ],
   "source": [
    "print('Metrics for Complaint Text length')\n",
    "print('---')\n",
    "print(f'Mean: {df_complaints.complaint_text_length.mean():.2f}')\n",
    "print(f'Median: {df_complaints.complaint_text_length.median():.0f}')\n",
    "print(f'Max: {df_complaints.complaint_text_length.max()}')\n",
    "print(f'90th Percentile: {df_complaints.complaint_text_length.quantile(.9):.0f}')\n",
    "print(f'95th Percentile: {df_complaints.complaint_text_length.quantile(.95):.0f}')"
   ]
  },
  {
   "cell_type": "code",
   "execution_count": 19,
   "metadata": {},
   "outputs": [
    {
     "data": {
      "image/png": "[encoded data removed]",
      "text/plain": [
       "<Figure size 432x288 with 1 Axes>"
      ]
     },
     "metadata": {
      "needs_background": "light"
     },
     "output_type": "display_data"
    }
   ],
   "source": [
    "plt.hist(df_complaints.log_length,bins=20);\n",
    "plt.title('Distribution of log2 of Complaint Text length')\n",
    "plt.axvline(x=np.log2(df_complaints.complaint_text_length.mean()),color='yellow');"
   ]
  },
  {
   "cell_type": "code",
   "execution_count": 20,
   "metadata": {},
   "outputs": [
    {
     "data": {
      "text/plain": [
       "3214.0"
      ]
     },
     "execution_count": 20,
     "metadata": {},
     "output_type": "execute_result"
    }
   ],
   "source": [
    "df_complaints.complaint_text_length.quantile(.95)"
   ]
  },
  {
   "cell_type": "markdown",
   "metadata": {},
   "source": [
    "n the next cell, print out some statistics about the data."
   ]
  },
  {
   "cell_type": "code",
   "execution_count": 21,
   "metadata": {},
   "outputs": [
    {
     "name": "stdout",
     "output_type": "stream",
     "text": [
      "Number of complaints:  688151\n",
      "Number of unique products:  18\n",
      "Unique complaint products:  ['Debt collection'\n",
      " 'Credit reporting, credit repair services, or other personal consumer reports'\n",
      " 'Money transfer, virtual currency, or money service' 'Mortgage'\n",
      " 'Vehicle loan or lease' 'Student loan' 'Credit card or prepaid card'\n",
      " 'Checking or savings account' 'Credit card'\n",
      " 'Payday loan, title loan, or personal loan' 'Consumer Loan' 'Payday loan'\n",
      " 'Credit reporting' 'Money transfers' 'Other financial service'\n",
      " 'Bank account or service' 'Prepaid card' 'Virtual currency']\n"
     ]
    }
   ],
   "source": [
    "# print out some stats about the data\n",
    "print('Number of complaints: ', df_complaints.shape[0])  # .shape[0] gives the rows \n",
    "# .unique() gives unique items in a specified column\n",
    "print('Number of unique products: ', (len(df_complaints['product'].unique())))\n",
    "print('Unique complaint products: ', (df_complaints['product'].unique()))"
   ]
  },
  {
   "cell_type": "markdown",
   "metadata": {},
   "source": [
    "The aim is to try to predict through classification what product I can assign to a complaint. So these two columns are really important for this project.\n",
    "\n",
    "Since our classification label is the product, it's important to understand it's distribution and balancing.\n",
    "\n",
    "When I have certain high levels of balancing, that is, when a large % of the complaints are classified for number of products, I may have some problems in the accuracy of the models, because it can be high for this same reason."
   ]
  },
  {
   "cell_type": "markdown",
   "metadata": {},
   "source": [
    "To what extent is our data evenly distributed among the different products and complaint levels?\n",
    "\n",
    "Our data set is quite large, especially with regard to examples of different product levels. The data is distributed slightly unbalanced."
   ]
  },
  {
   "cell_type": "code",
   "execution_count": 22,
   "metadata": {},
   "outputs": [
    {
     "name": "stdout",
     "output_type": "stream",
     "text": [
      "\n",
      "Product:\n"
     ]
    },
    {
     "data": {
      "text/html": [
       "<div>\n",
       "<style scoped>\n",
       "    .dataframe tbody tr th:only-of-type {\n",
       "        vertical-align: middle;\n",
       "    }\n",
       "\n",
       "    .dataframe tbody tr th {\n",
       "        vertical-align: top;\n",
       "    }\n",
       "\n",
       "    .dataframe thead th {\n",
       "        text-align: right;\n",
       "    }\n",
       "</style>\n",
       "<table border=\"1\" class=\"dataframe\">\n",
       "  <thead>\n",
       "    <tr style=\"text-align: right;\">\n",
       "      <th></th>\n",
       "      <th>product</th>\n",
       "      <th>Counts</th>\n",
       "    </tr>\n",
       "  </thead>\n",
       "  <tbody>\n",
       "    <tr>\n",
       "      <th>0</th>\n",
       "      <td>Bank account or service</td>\n",
       "      <td>14885</td>\n",
       "    </tr>\n",
       "    <tr>\n",
       "      <th>1</th>\n",
       "      <td>Checking or savings account</td>\n",
       "      <td>29955</td>\n",
       "    </tr>\n",
       "    <tr>\n",
       "      <th>2</th>\n",
       "      <td>Consumer Loan</td>\n",
       "      <td>9472</td>\n",
       "    </tr>\n",
       "    <tr>\n",
       "      <th>3</th>\n",
       "      <td>Credit card</td>\n",
       "      <td>18838</td>\n",
       "    </tr>\n",
       "    <tr>\n",
       "      <th>4</th>\n",
       "      <td>Credit card or prepaid card</td>\n",
       "      <td>51191</td>\n",
       "    </tr>\n",
       "    <tr>\n",
       "      <th>5</th>\n",
       "      <td>Credit reporting</td>\n",
       "      <td>31588</td>\n",
       "    </tr>\n",
       "    <tr>\n",
       "      <th>6</th>\n",
       "      <td>Credit reporting, credit repair services, or o...</td>\n",
       "      <td>252634</td>\n",
       "    </tr>\n",
       "    <tr>\n",
       "      <th>7</th>\n",
       "      <td>Debt collection</td>\n",
       "      <td>136178</td>\n",
       "    </tr>\n",
       "    <tr>\n",
       "      <th>8</th>\n",
       "      <td>Money transfer, virtual currency, or money ser...</td>\n",
       "      <td>13258</td>\n",
       "    </tr>\n",
       "    <tr>\n",
       "      <th>9</th>\n",
       "      <td>Money transfers</td>\n",
       "      <td>1497</td>\n",
       "    </tr>\n",
       "    <tr>\n",
       "      <th>10</th>\n",
       "      <td>Mortgage</td>\n",
       "      <td>75796</td>\n",
       "    </tr>\n",
       "    <tr>\n",
       "      <th>11</th>\n",
       "      <td>Other financial service</td>\n",
       "      <td>292</td>\n",
       "    </tr>\n",
       "    <tr>\n",
       "      <th>12</th>\n",
       "      <td>Payday loan</td>\n",
       "      <td>1746</td>\n",
       "    </tr>\n",
       "    <tr>\n",
       "      <th>13</th>\n",
       "      <td>Payday loan, title loan, or personal loan</td>\n",
       "      <td>9015</td>\n",
       "    </tr>\n",
       "    <tr>\n",
       "      <th>14</th>\n",
       "      <td>Prepaid card</td>\n",
       "      <td>1450</td>\n",
       "    </tr>\n",
       "    <tr>\n",
       "      <th>15</th>\n",
       "      <td>Student loan</td>\n",
       "      <td>27849</td>\n",
       "    </tr>\n",
       "    <tr>\n",
       "      <th>16</th>\n",
       "      <td>Vehicle loan or lease</td>\n",
       "      <td>12491</td>\n",
       "    </tr>\n",
       "    <tr>\n",
       "      <th>17</th>\n",
       "      <td>Virtual currency</td>\n",
       "      <td>16</td>\n",
       "    </tr>\n",
       "  </tbody>\n",
       "</table>\n",
       "</div>"
      ],
      "text/plain": [
       "                                              product  Counts\n",
       "0                             Bank account or service   14885\n",
       "1                         Checking or savings account   29955\n",
       "2                                       Consumer Loan    9472\n",
       "3                                         Credit card   18838\n",
       "4                         Credit card or prepaid card   51191\n",
       "5                                    Credit reporting   31588\n",
       "6   Credit reporting, credit repair services, or o...  252634\n",
       "7                                     Debt collection  136178\n",
       "8   Money transfer, virtual currency, or money ser...   13258\n",
       "9                                     Money transfers    1497\n",
       "10                                           Mortgage   75796\n",
       "11                            Other financial service     292\n",
       "12                                        Payday loan    1746\n",
       "13          Payday loan, title loan, or personal loan    9015\n",
       "14                                       Prepaid card    1450\n",
       "15                                       Student loan   27849\n",
       "16                              Vehicle loan or lease   12491\n",
       "17                                   Virtual currency      16"
      ]
     },
     "metadata": {},
     "output_type": "display_data"
    },
    {
     "name": "stdout",
     "output_type": "stream",
     "text": [
      "\n",
      "Sub Product:\n"
     ]
    },
    {
     "data": {
      "text/html": [
       "<div>\n",
       "<style scoped>\n",
       "    .dataframe tbody tr th:only-of-type {\n",
       "        vertical-align: middle;\n",
       "    }\n",
       "\n",
       "    .dataframe tbody tr th {\n",
       "        vertical-align: top;\n",
       "    }\n",
       "\n",
       "    .dataframe thead th {\n",
       "        text-align: right;\n",
       "    }\n",
       "</style>\n",
       "<table border=\"1\" class=\"dataframe\">\n",
       "  <thead>\n",
       "    <tr style=\"text-align: right;\">\n",
       "      <th></th>\n",
       "      <th>sub_product</th>\n",
       "      <th>Counts</th>\n",
       "    </tr>\n",
       "  </thead>\n",
       "  <tbody>\n",
       "    <tr>\n",
       "      <th>0</th>\n",
       "      <td>(CD) Certificate of deposit</td>\n",
       "      <td>274</td>\n",
       "    </tr>\n",
       "    <tr>\n",
       "      <th>1</th>\n",
       "      <td>Auto</td>\n",
       "      <td>1064</td>\n",
       "    </tr>\n",
       "    <tr>\n",
       "      <th>2</th>\n",
       "      <td>Auto debt</td>\n",
       "      <td>3622</td>\n",
       "    </tr>\n",
       "    <tr>\n",
       "      <th>3</th>\n",
       "      <td>CD (Certificate of Deposit)</td>\n",
       "      <td>497</td>\n",
       "    </tr>\n",
       "    <tr>\n",
       "      <th>4</th>\n",
       "      <td>Cashing a check without an account</td>\n",
       "      <td>134</td>\n",
       "    </tr>\n",
       "    <tr>\n",
       "      <th>...</th>\n",
       "      <td>...</td>\n",
       "      <td>...</td>\n",
       "    </tr>\n",
       "    <tr>\n",
       "      <th>70</th>\n",
       "      <td>Traveler’s/Cashier’s checks</td>\n",
       "      <td>22</td>\n",
       "    </tr>\n",
       "    <tr>\n",
       "      <th>71</th>\n",
       "      <td>VA mortgage</td>\n",
       "      <td>4832</td>\n",
       "    </tr>\n",
       "    <tr>\n",
       "      <th>72</th>\n",
       "      <td>Vehicle lease</td>\n",
       "      <td>961</td>\n",
       "    </tr>\n",
       "    <tr>\n",
       "      <th>73</th>\n",
       "      <td>Vehicle loan</td>\n",
       "      <td>5141</td>\n",
       "    </tr>\n",
       "    <tr>\n",
       "      <th>74</th>\n",
       "      <td>Virtual currency</td>\n",
       "      <td>2361</td>\n",
       "    </tr>\n",
       "  </tbody>\n",
       "</table>\n",
       "<p>75 rows × 2 columns</p>\n",
       "</div>"
      ],
      "text/plain": [
       "                           sub_product  Counts\n",
       "0          (CD) Certificate of deposit     274\n",
       "1                                 Auto    1064\n",
       "2                            Auto debt    3622\n",
       "3          CD (Certificate of Deposit)     497\n",
       "4   Cashing a check without an account     134\n",
       "..                                 ...     ...\n",
       "70         Traveler’s/Cashier’s checks      22\n",
       "71                         VA mortgage    4832\n",
       "72                       Vehicle lease     961\n",
       "73                        Vehicle loan    5141\n",
       "74                    Virtual currency    2361\n",
       "\n",
       "[75 rows x 2 columns]"
      ]
     },
     "metadata": {},
     "output_type": "display_data"
    },
    {
     "name": "stdout",
     "output_type": "stream",
     "text": [
      "\n",
      "Product & Sub Product :\n"
     ]
    },
    {
     "data": {
      "text/html": [
       "<div>\n",
       "<style scoped>\n",
       "    .dataframe tbody tr th:only-of-type {\n",
       "        vertical-align: middle;\n",
       "    }\n",
       "\n",
       "    .dataframe tbody tr th {\n",
       "        vertical-align: top;\n",
       "    }\n",
       "\n",
       "    .dataframe thead th {\n",
       "        text-align: right;\n",
       "    }\n",
       "</style>\n",
       "<table border=\"1\" class=\"dataframe\">\n",
       "  <thead>\n",
       "    <tr style=\"text-align: right;\">\n",
       "      <th></th>\n",
       "      <th>product</th>\n",
       "      <th>sub_product</th>\n",
       "      <th>Counts</th>\n",
       "    </tr>\n",
       "  </thead>\n",
       "  <tbody>\n",
       "    <tr>\n",
       "      <th>0</th>\n",
       "      <td>Bank account or service</td>\n",
       "      <td>(CD) Certificate of deposit</td>\n",
       "      <td>274</td>\n",
       "    </tr>\n",
       "    <tr>\n",
       "      <th>1</th>\n",
       "      <td>Bank account or service</td>\n",
       "      <td>Cashing a check without an account</td>\n",
       "      <td>134</td>\n",
       "    </tr>\n",
       "    <tr>\n",
       "      <th>2</th>\n",
       "      <td>Bank account or service</td>\n",
       "      <td>Checking account</td>\n",
       "      <td>10113</td>\n",
       "    </tr>\n",
       "    <tr>\n",
       "      <th>3</th>\n",
       "      <td>Bank account or service</td>\n",
       "      <td>Other bank product/service</td>\n",
       "      <td>3477</td>\n",
       "    </tr>\n",
       "    <tr>\n",
       "      <th>4</th>\n",
       "      <td>Bank account or service</td>\n",
       "      <td>Savings account</td>\n",
       "      <td>887</td>\n",
       "    </tr>\n",
       "    <tr>\n",
       "      <th>...</th>\n",
       "      <td>...</td>\n",
       "      <td>...</td>\n",
       "      <td>...</td>\n",
       "    </tr>\n",
       "    <tr>\n",
       "      <th>90</th>\n",
       "      <td>Vehicle loan or lease</td>\n",
       "      <td>Lease</td>\n",
       "      <td>2252</td>\n",
       "    </tr>\n",
       "    <tr>\n",
       "      <th>91</th>\n",
       "      <td>Vehicle loan or lease</td>\n",
       "      <td>Loan</td>\n",
       "      <td>10225</td>\n",
       "    </tr>\n",
       "    <tr>\n",
       "      <th>92</th>\n",
       "      <td>Vehicle loan or lease</td>\n",
       "      <td>Title loan</td>\n",
       "      <td>14</td>\n",
       "    </tr>\n",
       "    <tr>\n",
       "      <th>93</th>\n",
       "      <td>Virtual currency</td>\n",
       "      <td>Domestic (US) money transfer</td>\n",
       "      <td>15</td>\n",
       "    </tr>\n",
       "    <tr>\n",
       "      <th>94</th>\n",
       "      <td>Virtual currency</td>\n",
       "      <td>International money transfer</td>\n",
       "      <td>1</td>\n",
       "    </tr>\n",
       "  </tbody>\n",
       "</table>\n",
       "<p>95 rows × 3 columns</p>\n",
       "</div>"
      ],
      "text/plain": [
       "                    product                         sub_product  Counts\n",
       "0   Bank account or service         (CD) Certificate of deposit     274\n",
       "1   Bank account or service  Cashing a check without an account     134\n",
       "2   Bank account or service                    Checking account   10113\n",
       "3   Bank account or service          Other bank product/service    3477\n",
       "4   Bank account or service                     Savings account     887\n",
       "..                      ...                                 ...     ...\n",
       "90    Vehicle loan or lease                               Lease    2252\n",
       "91    Vehicle loan or lease                                Loan   10225\n",
       "92    Vehicle loan or lease                          Title loan      14\n",
       "93         Virtual currency        Domestic (US) money transfer      15\n",
       "94         Virtual currency        International money transfer       1\n",
       "\n",
       "[95 rows x 3 columns]"
      ]
     },
     "metadata": {},
     "output_type": "display_data"
    }
   ],
   "source": [
    "# Show counts by different products and sub product of complaints\n",
    "\n",
    "# group and count by product\n",
    "counts_per_product=df_complaints.groupby(['product']).size().reset_index(name=\"Counts\")\n",
    "print(\"\\nProduct:\")\n",
    "display(counts_per_product)\n",
    "\n",
    "# group by sub product\n",
    "counts_per_sub_product=df_complaints.groupby(['sub_product']).size().reset_index(name=\"Counts\")\n",
    "print(\"\\nSub Product:\")\n",
    "display(counts_per_sub_product)\n",
    "\n",
    "# group by product and sub product\n",
    "counts_complaints_products=df_complaints.groupby(['product', 'sub_product']).size().reset_index(name=\"Counts\")\n",
    "print(\"\\nProduct & Sub Product :\")\n",
    "display(counts_complaints_products)"
   ]
  },
  {
   "cell_type": "markdown",
   "metadata": {},
   "source": [
    "I can see that the products follow an unbalanced distribution, because there are 2 or 3 products that fit more complaints."
   ]
  },
  {
   "cell_type": "code",
   "execution_count": 23,
   "metadata": {},
   "outputs": [
    {
     "data": {
      "text/plain": [
       "<BarContainer object of 18 artists>"
      ]
     },
     "execution_count": 23,
     "metadata": {},
     "output_type": "execute_result"
    },
    {
     "data": {
      "image/png": "[encoded data removed]",
      "text/plain": [
       "<Figure size 576x360 with 1 Axes>"
      ]
     },
     "metadata": {
      "needs_background": "light"
     },
     "output_type": "display_data"
    }
   ],
   "source": [
    "# counts\n",
    "group = ['product']\n",
    "counts = df_complaints.groupby(group).size().reset_index(name=\"Counts\")\n",
    "\n",
    "%matplotlib inline\n",
    "plt.figure(figsize=(8,5))\n",
    "plt.bar(range(len(counts)), counts['Counts'], color = 'blue')"
   ]
  },
  {
   "cell_type": "markdown",
   "metadata": {},
   "source": [
    "Through the analysis I find that the number of complaints per product is unbalanced. The complaints are more focused on `creadit reporting`, `debt collection` and `mortgages`.\n",
    "\n",
    "Some algorithms are often biased towards the majority class, not taking into account the distribution of data. Often the minority classes are treated as outliers and can easily be ignored.\n",
    "\n",
    "There are 18 different product classes. However; It's observed that some classes are contained in others. For instance, `Credit card` and `Prepaid card` are contained in `Credit card or prepaid card` product. \n",
    "If have a new complaint about Credit card and I want to classify it, the algorithm can either classify this complaint as `Credit card` or `Credit card or prepaid` and it would be correct, but this would affect model performance. In order to avoid this problem, the names of some products were mapping to another product . I'll try to consolidate some of these products, joining the products with multiple or repeated descriptions (there are several products of `Loan`, `Credit Card`, `Prepaid`, `Payday`, etc...).\n",
    "\n",
    "Even so, I'll have product with more proipherance, which may even be reasonable as they may allow us a greater accuracy.\n",
    "\n",
    "Let's have a look at the products:"
   ]
  },
  {
   "cell_type": "code",
   "execution_count": 24,
   "metadata": {},
   "outputs": [
    {
     "name": "stdout",
     "output_type": "stream",
     "text": [
      "product\n",
      "Credit reporting, credit repair services, or other personal consumer reports    252634\n",
      "Debt collection                                                                 136178\n",
      "Mortgage                                                                         75796\n",
      "Credit card or prepaid card                                                      51191\n",
      "Credit reporting                                                                 31588\n",
      "Checking or savings account                                                      29955\n",
      "Student loan                                                                     27849\n",
      "Credit card                                                                      18838\n",
      "Bank account or service                                                          14885\n",
      "Money transfer, virtual currency, or money service                               13258\n",
      "Vehicle loan or lease                                                            12491\n",
      "Consumer Loan                                                                     9472\n",
      "Payday loan, title loan, or personal loan                                         9015\n",
      "Payday loan                                                                       1746\n",
      "Money transfers                                                                   1497\n",
      "Prepaid card                                                                      1450\n",
      "Other financial service                                                            292\n",
      "Virtual currency                                                                    16\n",
      "dtype: int64\n"
     ]
    }
   ],
   "source": [
    "# Number of Complaints in each Product\n",
    "product_balanced = (df_complaints.groupby('product').size()).sort_values(ascending = False)\n",
    "print(product_balanced)"
   ]
  },
  {
   "cell_type": "code",
   "execution_count": 25,
   "metadata": {},
   "outputs": [
    {
     "data": {
      "image/png": "[encoded data removed]",
      "text/plain": [
       "<Figure size 576x432 with 1 Axes>"
      ]
     },
     "metadata": {
      "needs_background": "light"
     },
     "output_type": "display_data"
    }
   ],
   "source": [
    "# Number of Complaints in each Product\n",
    "fig = plt.figure(figsize=(8,6))\n",
    "df_complaints.groupby('product').complaint_text.count().sort_values().plot.barh(ylim=0, title='Product by complaint occurences');\n",
    "plt.xlabel('Number of ocurrences', fontsize = 10);\n",
    "plt.ylabel('Products', fontsize = 10);\n",
    "plt.show();"
   ]
  },
  {
   "cell_type": "markdown",
   "metadata": {},
   "source": [
    "Since this is a stage of exploration, I don't seek to make major changes in our data set, I'll leave this work to the next phase. In the next phase of the project I'll prepare our final dataset, and for that I'll consider the following consolidation of the products:\n",
    "\n",
    "* 'Credit reporting, credit repair services, or other personal consumer reports’ --> 'Credit reporting, repair, or other'\n",
    "* 'Credit reporting': 'Credit reporting, repair, or other'\n",
    "* 'Credit card' --> 'Credit card or prepaid card'\n",
    "* 'Prepaid card' --> 'Credit card or prepaid card'\n",
    "* 'Money transfer' --> 'Money transfer, virtual currency, or money service'\n",
    "* 'Virtual currency' --> 'Money transfer, virtual currency, or money service'\n",
    "* 'Payday loan, title loan, or personal loan' -->'Loan',\n",
    "* 'Student loan' --> 'Loan'\n",
    "* 'Consumer Loan' -->'Loan'\n",
    "* 'Payday loan' -->'Loan'\n",
    "* 'Vehicle loan or lease' --> 'Loan'"
   ]
  },
  {
   "cell_type": "markdown",
   "metadata": {},
   "source": [
    "**Step 6 - Looking at a sample text**\n",
    "\n",
    "When analysing examples of complaints I realise that it's complicated to read, because you have lots of characters and they are too long texts.\n",
    "\n",
    "This text can be worked on, with to pre-processing techniques. I can remove the special characters, put the text in small letters, remove the numbers, vectorize, summarize the texts, etc."
   ]
  },
  {
   "cell_type": "code",
   "execution_count": 26,
   "metadata": {},
   "outputs": [
    {
     "data": {
      "text/plain": [
       "['i, XXXX XXXX XXXX, woman of flesh and blood, beneficiary to the account XXXX XXXX XXXX ssn : XXXX dob : XX/XX/1992 previous address XXXX XXXX XXXX XXXX XXXX XXXX XXXX XXXX NV XXXX [ zip code exempt ] current living address XXXX XXXX XXXX XXXX XXXX XXXX, NV XXXX [ zip code exempt ], new mailing address XXXX XXXX XXXX XXXX XXXX XXXX XXXX XXXX NV XXXX [ zip code exempt ] have submitted several disputes to Equifax through the CFPB as well as USPS but have received no results and it has now been well over 30 days. \\n\\nI received a letter by mail from Equifax stating that they received my request concerning my Equifax credit file but that they could not locate my file. That it may be due to me not having a current file, or not applying for credit recently, or that i have not actively used credit in ten years. However when I logged into Equifax I was able to find my credit file. Is there a reason why you were unable to find my credit file but I am able to? Also out of the two scores presented by XXXX XXXX one of them is connected to Equifax. Equifax has allowed corporations to provide documents affecting my way of living but is refusing to investigate my disputes. Is there a reason you have chosen not to investigate my disputes? i provided Equifax with proof of identity and address, i provided Equifax with account numbers, i provided Equifax with proof of payment in full, i provided Equifax with proof of the corporations receiving payment yet they have taken no action on my behalf to correct my credit file. What is the reason for this? To state that it is due to not locating my credit file when that is clearly a false statement leads me to believe that you are working for the corporation and not for we the people. Equifax has allowed these corporations to continue to destroy my credit score in an attempt to extort more money from me. Provide lawful reason as to why you have taken no action to my dispute.']"
      ]
     },
     "execution_count": 26,
     "metadata": {},
     "output_type": "execute_result"
    }
   ],
   "source": [
    "# Create at a sample text\n",
    "complaint_text = list(df_complaints.complaint_text[:3])[2]\n",
    "\n",
    "# Converting to a list for TfidfVectorizer to use\n",
    "list_sample_complaint_text = []\n",
    "list_sample_complaint_text.append(complaint_text)\n",
    "list_sample_complaint_text "
   ]
  },
  {
   "cell_type": "code",
   "execution_count": 27,
   "metadata": {},
   "outputs": [
    {
     "name": "stdout",
     "output_type": "stream",
     "text": [
      "['1992', '30', 'able', 'account', 'action', 'actively', 'address', 'affecting', 'allowed', 'applying', 'attempt', 'behalf', 'believe', 'beneficiary', 'blood', 'cfpb', 'chosen', 'clearly', 'code', 'concerning', 'connected', 'continue', 'corporation', 'corporations', 'correct', 'credit', 'current', 'days', 'destroy', 'dispute', 'disputes', 'dob', 'documents', 'equifax', 'exempt', 'extort', 'false', 'file', 'flesh', 'having', 'identity', 'investigate', 'lawful', 'leads', 'letter', 'living', 'locate', 'locating', 'logged', 'mail', 'mailing', 'money', 'new', 'numbers', 'nv', 'payment', 'people', 'presented', 'previous', 'proof', 'provide', 'provided', 'reason', 'received', 'receiving', 'recently', 'refusing', 'request', 'results', 'score', 'scores', 'ssn', 'state', 'statement', 'stating', 'submitted', 'taken', 'unable', 'used', 'usps', 'way', 'woman', 'working', 'xx', 'xxxx', 'years', 'zip']\n"
     ]
    }
   ],
   "source": [
    "# Observing what words are extracted from a TfidfVectorizer\n",
    "from sklearn.feature_extraction.text import TfidfVectorizer;\n",
    "\n",
    "TfidfVectorizer = TfidfVectorizer(stop_words='english', sublinear_tf=True);\n",
    "\n",
    "check_TfidfVectorizer = TfidfVectorizer.fit_transform(list_sample_complaint_text);\n",
    "#check_TfidfVectorizer = TfidfVectorizer.fit_transform(helpers.clean_text(list_sample_complaint_text))\n",
    "\n",
    "print(TfidfVectorizer.get_feature_names());"
   ]
  },
  {
   "cell_type": "markdown",
   "metadata": {},
   "source": [
    "I can rely on stop_word removal from tfidf. Through the tests, I see that it removes the punctuations and also all stop words. \n",
    "Therefore, I'll try to use tfidf as it is, but probably I'll apply the cleaning of the text in the next stage  (Text Processing):\n",
    "1. converting all letters to lower\n",
    "2. converting numbers into words \n",
    "3. removing white spaces\n",
    "4. expanding some abbreviations\n",
    "5. removing non ascii\n",
    "6. remove wrong convertion characters from text\n",
    "7. removing xxx since it will be treated as importand words by tf-idf vectorization\n",
    "\n",
    "Do the product use their language? `English`."
   ]
  },
  {
   "cell_type": "markdown",
   "metadata": {},
   "source": [
    "#### 03. Data Pre-Preprocessing & Data Feature Enginnering\n",
    "\n",
    "At this stage of the project, after the data exploration stage where I understand how the data is distributed, I'll work this data set in order to have a final data set for the project. I'll apply here some mechanisms to reduce in the data set, trying to reduce it by 90%, because this is too big to be worked on locally in my laptopt.\n",
    "\n",
    "After preparing the final dataset, I'll transform the features so that they can be used in our model. This step includes the process of loading dataset and performing basic data exploration and preprocessing. The dataset is then splitted into training and test sets;\n",
    "\n",
    "I prepared this notebook for the data preparation and feature engineering phase."
   ]
  },
  {
   "cell_type": "code",
   "execution_count": 28,
   "metadata": {},
   "outputs": [],
   "source": [
    "# product consolidation\n",
    "df_complaints['product_consolidation'] = df_complaints['product']\n",
    "\n",
    "# Renaming products\n",
    "df_complaints.replace({'product_consolidation': \n",
    "             {\n",
    "                'Credit reporting, credit repair services, or other personal consumer reports': \n",
    "                'Credit reporting, repair, or other', \n",
    "                'Credit reporting': 'Credit reporting, repair, or other',\n",
    "                'Credit card': 'Credit card or prepaid card',\n",
    "                'Prepaid card': 'Credit card or prepaid card',\n",
    "                'Money transfers': 'Money transfer, virtual currency, or money service',\n",
    "                'Virtual currency': 'Money transfer, virtual currency, or money service',\n",
    "                'Payday loan, title loan, or personal loan':'Loan',\n",
    "                'Student loan': 'Loan',\n",
    "                'Consumer Loan':'Loan',\n",
    "                'Payday loan':'Loan',\n",
    "                'Vehicle loan or lease': 'Loan'}\n",
    "                }, \n",
    "            inplace= True);"
   ]
  },
  {
   "cell_type": "code",
   "execution_count": 29,
   "metadata": {},
   "outputs": [
    {
     "name": "stdout",
     "output_type": "stream",
     "text": [
      "product_consolidation\n",
      "Credit reporting, repair, or other                    284222\n",
      "Debt collection                                       136178\n",
      "Mortgage                                               75796\n",
      "Credit card or prepaid card                            71479\n",
      "Loan                                                   60573\n",
      "Checking or savings account                            29955\n",
      "Bank account or service                                14885\n",
      "Money transfer, virtual currency, or money service     14771\n",
      "Other financial service                                  292\n",
      "dtype: int64\n"
     ]
    }
   ],
   "source": [
    "# Number of Complaints in each Product\n",
    "product_consolidation_balanced = (df_complaints.groupby('product_consolidation').size()).sort_values(ascending = False)\n",
    "print(product_consolidation_balanced)"
   ]
  },
  {
   "cell_type": "code",
   "execution_count": 30,
   "metadata": {},
   "outputs": [
    {
     "data": {
      "text/plain": [
       "<BarContainer object of 9 artists>"
      ]
     },
     "execution_count": 30,
     "metadata": {},
     "output_type": "execute_result"
    },
    {
     "data": {
      "image/png": "[encoded data removed]",
      "text/plain": [
       "<Figure size 576x360 with 1 Axes>"
      ]
     },
     "metadata": {
      "needs_background": "light"
     },
     "output_type": "display_data"
    }
   ],
   "source": [
    "# Product distribution \n",
    "group = ['product_consolidation']\n",
    "counts = df_complaints.groupby(group).size().reset_index(name=\"Counts\")\n",
    "\n",
    "%matplotlib inline\n",
    "plt.figure(figsize=(8,5))\n",
    "plt.bar(range(len(counts)), counts['Counts'], color = 'blue')"
   ]
  },
  {
   "cell_type": "code",
   "execution_count": 31,
   "metadata": {},
   "outputs": [],
   "source": [
    "#Label-Encoding: It can only be applied to target variable, in this case new variable product_consolidation .\n",
    "encoder = LabelEncoder();\n",
    "\n",
    "df_complaints['product_consolidation_label'] = encoder.fit_transform(df_complaints['product_consolidation'])"
   ]
  },
  {
   "cell_type": "code",
   "execution_count": 32,
   "metadata": {},
   "outputs": [
    {
     "name": "stdout",
     "output_type": "stream",
     "text": [
      "product_consolidation_label\n",
      "3    284222\n",
      "4    136178\n",
      "7     75796\n",
      "2     71479\n",
      "5     60573\n",
      "1     29955\n",
      "0     14885\n",
      "6     14771\n",
      "8       292\n",
      "dtype: int64\n"
     ]
    }
   ],
   "source": [
    "# Number of Complaints in each Product\n",
    "product_consolidation_balanced = (df_complaints.groupby('product_consolidation_label').size().sort_values()).sort_values(ascending = False)\n",
    "print(product_consolidation_balanced)"
   ]
  },
  {
   "cell_type": "code",
   "execution_count": 33,
   "metadata": {},
   "outputs": [],
   "source": [
    "# Create a new dataframe with 3 important columns\n",
    "df_complaints_pre_final = df_complaints[['complaint_text', 'product_consolidation', 'product_consolidation_label']]\n",
    "\n",
    "df_complaints_pre_final = df_complaints_pre_final.rename(index=str, columns={\"product_consolidation\": \"product\", \"complaint_text\": \"complaint_text\", 'product_consolidation_label':'product_id'})"
   ]
  },
  {
   "cell_type": "code",
   "execution_count": 34,
   "metadata": {},
   "outputs": [
    {
     "name": "stdout",
     "output_type": "stream",
     "text": [
      "product\n",
      "Credit reporting, repair, or other                    284222\n",
      "Debt collection                                       136178\n",
      "Mortgage                                               75796\n",
      "Credit card or prepaid card                            71479\n",
      "Loan                                                   60573\n",
      "Checking or savings account                            29955\n",
      "Bank account or service                                14885\n",
      "Money transfer, virtual currency, or money service     14771\n",
      "Other financial service                                  292\n",
      "dtype: int64\n"
     ]
    }
   ],
   "source": [
    "# Number of Complaints in each Product\n",
    "product_balanced = (df_complaints_pre_final.groupby('product').size()).sort_values(ascending = False)\n",
    "print(product_balanced)"
   ]
  },
  {
   "cell_type": "code",
   "execution_count": 35,
   "metadata": {},
   "outputs": [
    {
     "name": "stdout",
     "output_type": "stream",
     "text": [
      "Before reduce dataset \n"
     ]
    },
    {
     "data": {
      "text/plain": [
       "(688151, 3)"
      ]
     },
     "execution_count": 35,
     "metadata": {},
     "output_type": "execute_result"
    }
   ],
   "source": [
    "print('Before reduce dataset ')  \n",
    "df_complaints_pre_final.shape"
   ]
  },
  {
   "cell_type": "code",
   "execution_count": 36,
   "metadata": {},
   "outputs": [],
   "source": [
    "# Number of samples in the least represented class\n",
    "#quota = df_complaints_pre_final['product'].value_counts().mean()\n",
    "quota = df_complaints_pre_final['product'].value_counts().min()\n",
    "quota = int(quota)"
   ]
  },
  {
   "cell_type": "code",
   "execution_count": 37,
   "metadata": {},
   "outputs": [],
   "source": [
    "# New DataFrame to add equal number of samples from each class\n",
    "balanced_data = pd.DataFrame(columns=['product', 'complaint_text','product_id'])\n",
    "\n",
    "# Reduce each group to the chosen number of samples\n",
    "data_groups = df_complaints_pre_final.groupby('product')\n",
    "for group in data_groups.indices:\n",
    "    reduced_class = data_groups.get_group(group)[['product', 'complaint_text','product_id']].iloc[:quota, :]\n",
    "    balanced_data = balanced_data.append(reduced_class, ignore_index=True)"
   ]
  },
  {
   "cell_type": "code",
   "execution_count": 38,
   "metadata": {},
   "outputs": [
    {
     "data": {
      "text/plain": [
       "Credit reporting, repair, or other                    292\n",
       "Money transfer, virtual currency, or money service    292\n",
       "Mortgage                                              292\n",
       "Debt collection                                       292\n",
       "Other financial service                               292\n",
       "Credit card or prepaid card                           292\n",
       "Checking or savings account                           292\n",
       "Loan                                                  292\n",
       "Bank account or service                               292\n",
       "Name: product, dtype: int64"
      ]
     },
     "execution_count": 38,
     "metadata": {},
     "output_type": "execute_result"
    }
   ],
   "source": [
    " # Class distribution in the new dataset\n",
    "balanced_data['product'].value_counts()"
   ]
  },
  {
   "cell_type": "code",
   "execution_count": 39,
   "metadata": {},
   "outputs": [
    {
     "data": {
      "text/html": [
       "<div>\n",
       "<style scoped>\n",
       "    .dataframe tbody tr th:only-of-type {\n",
       "        vertical-align: middle;\n",
       "    }\n",
       "\n",
       "    .dataframe tbody tr th {\n",
       "        vertical-align: top;\n",
       "    }\n",
       "\n",
       "    .dataframe thead th {\n",
       "        text-align: right;\n",
       "    }\n",
       "</style>\n",
       "<table border=\"1\" class=\"dataframe\">\n",
       "  <thead>\n",
       "    <tr style=\"text-align: right;\">\n",
       "      <th></th>\n",
       "      <th>product</th>\n",
       "      <th>complaint_text</th>\n",
       "      <th>product_id</th>\n",
       "    </tr>\n",
       "  </thead>\n",
       "  <tbody>\n",
       "    <tr>\n",
       "      <th>0</th>\n",
       "      <td>Bank account or service</td>\n",
       "      <td>M &amp; t bank customer service Claims a credit ca...</td>\n",
       "      <td>0</td>\n",
       "    </tr>\n",
       "    <tr>\n",
       "      <th>1</th>\n",
       "      <td>Bank account or service</td>\n",
       "      <td>I tried to transfer {$2900.00} to XXXX on XXXX...</td>\n",
       "      <td>0</td>\n",
       "    </tr>\n",
       "    <tr>\n",
       "      <th>2</th>\n",
       "      <td>Bank account or service</td>\n",
       "      <td>I own a XXXX wanted to transfer money from XXX...</td>\n",
       "      <td>0</td>\n",
       "    </tr>\n",
       "    <tr>\n",
       "      <th>3</th>\n",
       "      <td>Bank account or service</td>\n",
       "      <td>My bank account was tied to my XXXX. My XXXX w...</td>\n",
       "      <td>0</td>\n",
       "    </tr>\n",
       "    <tr>\n",
       "      <th>4</th>\n",
       "      <td>Bank account or service</td>\n",
       "      <td>Found RV ( motorhome ) on XXXX interested in p...</td>\n",
       "      <td>0</td>\n",
       "    </tr>\n",
       "    <tr>\n",
       "      <th>...</th>\n",
       "      <td>...</td>\n",
       "      <td>...</td>\n",
       "      <td>...</td>\n",
       "    </tr>\n",
       "    <tr>\n",
       "      <th>2623</th>\n",
       "      <td>Other financial service</td>\n",
       "      <td>I have a bad experience to DMB financial credi...</td>\n",
       "      <td>8</td>\n",
       "    </tr>\n",
       "    <tr>\n",
       "      <th>2624</th>\n",
       "      <td>Other financial service</td>\n",
       "      <td>We signed up for ClearOne Advantage to handle ...</td>\n",
       "      <td>8</td>\n",
       "    </tr>\n",
       "    <tr>\n",
       "      <th>2625</th>\n",
       "      <td>Other financial service</td>\n",
       "      <td>I made a transaction on XXXX XXXX, 2016 on the...</td>\n",
       "      <td>8</td>\n",
       "    </tr>\n",
       "    <tr>\n",
       "      <th>2626</th>\n",
       "      <td>Other financial service</td>\n",
       "      <td>I attempted to exchange euros to dollars at th...</td>\n",
       "      <td>8</td>\n",
       "    </tr>\n",
       "    <tr>\n",
       "      <th>2627</th>\n",
       "      <td>Other financial service</td>\n",
       "      <td>I contracted with Credit Guard to help me to p...</td>\n",
       "      <td>8</td>\n",
       "    </tr>\n",
       "  </tbody>\n",
       "</table>\n",
       "<p>2628 rows × 3 columns</p>\n",
       "</div>"
      ],
      "text/plain": [
       "                      product  \\\n",
       "0     Bank account or service   \n",
       "1     Bank account or service   \n",
       "2     Bank account or service   \n",
       "3     Bank account or service   \n",
       "4     Bank account or service   \n",
       "...                       ...   \n",
       "2623  Other financial service   \n",
       "2624  Other financial service   \n",
       "2625  Other financial service   \n",
       "2626  Other financial service   \n",
       "2627  Other financial service   \n",
       "\n",
       "                                         complaint_text product_id  \n",
       "0     M & t bank customer service Claims a credit ca...          0  \n",
       "1     I tried to transfer {$2900.00} to XXXX on XXXX...          0  \n",
       "2     I own a XXXX wanted to transfer money from XXX...          0  \n",
       "3     My bank account was tied to my XXXX. My XXXX w...          0  \n",
       "4     Found RV ( motorhome ) on XXXX interested in p...          0  \n",
       "...                                                 ...        ...  \n",
       "2623  I have a bad experience to DMB financial credi...          8  \n",
       "2624  We signed up for ClearOne Advantage to handle ...          8  \n",
       "2625  I made a transaction on XXXX XXXX, 2016 on the...          8  \n",
       "2626  I attempted to exchange euros to dollars at th...          8  \n",
       "2627  I contracted with Credit Guard to help me to p...          8  \n",
       "\n",
       "[2628 rows x 3 columns]"
      ]
     },
     "execution_count": 39,
     "metadata": {},
     "output_type": "execute_result"
    }
   ],
   "source": [
    "balanced_data"
   ]
  },
  {
   "cell_type": "code",
   "execution_count": 40,
   "metadata": {},
   "outputs": [],
   "source": [
    "df_complaints_final=balanced_data"
   ]
  },
  {
   "cell_type": "code",
   "execution_count": 41,
   "metadata": {},
   "outputs": [
    {
     "name": "stdout",
     "output_type": "stream",
     "text": [
      "After reduce dataset \n"
     ]
    },
    {
     "data": {
      "text/plain": [
       "(2628, 3)"
      ]
     },
     "execution_count": 41,
     "metadata": {},
     "output_type": "execute_result"
    }
   ],
   "source": [
    "print('After reduce dataset ')  \n",
    "df_complaints_final.shape"
   ]
  },
  {
   "cell_type": "code",
   "execution_count": 42,
   "metadata": {},
   "outputs": [
    {
     "name": "stdout",
     "output_type": "stream",
     "text": [
      "<class 'pandas.core.frame.DataFrame'>\n",
      "RangeIndex: 2628 entries, 0 to 2627\n",
      "Data columns (total 3 columns):\n",
      " #   Column          Non-Null Count  Dtype \n",
      "---  ------          --------------  ----- \n",
      " 0   product         2628 non-null   object\n",
      " 1   complaint_text  2628 non-null   object\n",
      " 2   product_id      2628 non-null   object\n",
      "dtypes: object(3)\n",
      "memory usage: 61.7+ KB\n"
     ]
    }
   ],
   "source": [
    "df_complaints_final.info();"
   ]
  },
  {
   "cell_type": "code",
   "execution_count": 43,
   "metadata": {},
   "outputs": [],
   "source": [
    "# Function to clean\n",
    "def clean_text(text, bu):\n",
    "    if \"english\" in bu:\n",
    "        country_code = 'en'\n",
    "    else:\n",
    "        country_code = 'en'\n",
    "\n",
    "    clean_text = clean(text,\n",
    "                       fix_unicode=True,  # fix various unicode errors\n",
    "                       to_ascii=True,  # transliterate to closest ASCII representation\n",
    "                       lower=True,  # lowercase text\n",
    "                       no_line_breaks=False,  # fully strip line breaks as opposed to only normalizing them\n",
    "                       no_urls=True,  # replace all URLs with a special token\n",
    "                       no_emails=True,  # replace all email addresses with a special token\n",
    "                       no_phone_numbers=True,  # replace all phone numbers with a special token\n",
    "                       no_numbers=True,  # replace all numbers with a special token\n",
    "                       no_digits=True,  # replace all digits with a special token\n",
    "                       no_currency_symbols=False,  # replace all currency symbols with a special token\n",
    "                       no_punct=True,  # remove punctuations\n",
    "                       replace_with_punct=\"\",  # instead of removing punctuations you may replace them\n",
    "                       replace_with_url=\"\",\n",
    "                       replace_with_email=\"\",\n",
    "                       replace_with_phone_number=\"\",\n",
    "                       replace_with_number=\"\",\n",
    "                       replace_with_digit=\"\",\n",
    "                       replace_with_currency_symbol=\"\",\n",
    "                       lang=country_code\n",
    "                       )\n",
    "\n",
    "    return clean_text\n"
   ]
  },
  {
   "cell_type": "code",
   "execution_count": 44,
   "metadata": {},
   "outputs": [],
   "source": [
    "#df_complaints_final['complaint_text_clean'] = df_complaints_final['complaint_text'].map(lambda x: clean_text(x, 'english'))"
   ]
  },
  {
   "cell_type": "code",
   "execution_count": 45,
   "metadata": {},
   "outputs": [
    {
     "name": "stdout",
     "output_type": "stream",
     "text": [
      "------------- PRODUCTS ~ LABELS ------------\n",
      "product_id  product                                           \n",
      "0           Bank account or service                               292\n",
      "1           Checking or savings account                           292\n",
      "2           Credit card or prepaid card                           292\n",
      "3           Credit reporting, repair, or other                    292\n",
      "4           Debt collection                                       292\n",
      "5           Loan                                                  292\n",
      "6           Money transfer, virtual currency, or money service    292\n",
      "7           Mortgage                                              292\n",
      "8           Other financial service                               292\n",
      "dtype: int64\n",
      "\n",
      "------------- DIC. PRODUCTS ~ Dic. LABELS ------------\n",
      "\n",
      "{0: 'Bank account or service', 1: 'Checking or savings account', 2: 'Credit card or prepaid card', 3: 'Credit reporting, repair, or other', 4: 'Debt collection', 5: 'Loan', 6: 'Money transfer, virtual currency, or money service', 7: 'Mortgage', 8: 'Other financial service'}\n",
      "\n",
      "{0: 'Bank account or service', 1: 'Checking or savings account', 2: 'Credit card or prepaid card', 3: 'Credit reporting, repair, or other', 4: 'Debt collection', 5: 'Loan', 6: 'Money transfer, virtual currency, or money service', 7: 'Mortgage', 8: 'Other financial service'}\n",
      "\n",
      "\n",
      "------------- COMPLAINTS ~ FEATURES ------------\n",
      "                                         complaint_text\n",
      "0     M & t bank customer service Claims a credit ca...\n",
      "1     I tried to transfer {$2900.00} to XXXX on XXXX...\n",
      "2     I own a XXXX wanted to transfer money from XXX...\n",
      "3     My bank account was tied to my XXXX. My XXXX w...\n",
      "4     Found RV ( motorhome ) on XXXX interested in p...\n",
      "...                                                 ...\n",
      "2623  I have a bad experience to DMB financial credi...\n",
      "2624  We signed up for ClearOne Advantage to handle ...\n",
      "2625  I made a transaction on XXXX XXXX, 2016 on the...\n",
      "2626  I attempted to exchange euros to dollars at th...\n",
      "2627  I contracted with Credit Guard to help me to p...\n",
      "\n",
      "[2628 rows x 1 columns]\n",
      "\n"
     ]
    }
   ],
   "source": [
    "df_products = df_complaints_final[['product']]\n",
    "products = df_complaints_final['product']\n",
    "\n",
    "df_products_id = df_complaints_final[['product_id']]\n",
    "products_id = df_complaints_final['product_id']\n",
    "\n",
    "# Labels\n",
    "df_labels = df_complaints_final[['product_id', 'product']].drop_duplicates().sort_values(by = 'product_id', ascending = True)\n",
    "print('------------- PRODUCTS ~ LABELS ------------')\n",
    "#print(df_products)\n",
    "print((df_complaints_final.groupby(['product_id', 'product']).size()).sort_values(ascending = False))\n",
    "print('')\n",
    "\n",
    "# Dictionaries for labels\n",
    "print('------------- DIC. PRODUCTS ~ Dic. LABELS ------------')\n",
    "product_to_id = dict(df_labels.values) # key-value pair\n",
    "id_to_product = dict(df_labels[['product_id', 'product']].values)  #key-value pair\n",
    "print('')\n",
    "print(product_to_id)\n",
    "print('')\n",
    "print(id_to_product)\n",
    "print('')\n",
    "      \n",
    "# Features\n",
    "df_pre_features  = df_complaints_final[['complaint_text']]\n",
    "pre_features  = df_complaints_final['complaint_text']\n",
    "print('')\n",
    "print('------------- COMPLAINTS ~ FEATURES ------------')\n",
    "print(df_pre_features)\n",
    "print('')\n"
   ]
  },
  {
   "cell_type": "markdown",
   "metadata": {},
   "source": [
    "**Step 5 - Text processing and Split Data**\n",
    "\n",
    "One of the aim of this project is the construction of a **complaints classifier**. And this task is a comparison text; a text which looks at a given complaint and product text, compares them and predicts whether a complaint has been classified from the product. To make this comparison effective, and train a classifier, I'll  have to do a few more things: \n",
    "\n",
    "First, I'll clean pre-process all the complaints narratives to be easily compared with the products:\n",
    "\n",
    "1. converting all letters to lower\n",
    "2. converting numbers into words \n",
    "3. removing white spaces\n",
    "4. expanding some abbreviations\n",
    "5. removing non ascii\n",
    "6. remove wrong convertion characters from text\n",
    "7. removing xxx since it will be treated as importand words by tf-idf vectorization\n",
    "\n",
    "Then I'll divide our data into `train` data and `test` data, so that they can be used to train a classifier and evaluate it, respectively.\n",
    "\n",
    "The first 80% is training and the last 20% is test set. If we set the shuffle parameter to True, the data will be randomly split:"
   ]
  },
  {
   "cell_type": "code",
   "execution_count": 46,
   "metadata": {},
   "outputs": [],
   "source": [
    "def split_data(df_x, df_y, is_clean: bool, is_shuffle: bool, seed: int):\n",
    "    \"\"\"\n",
    "    This function allows the split data \n",
    "        param df: data set\n",
    "        param is_clean = to clean?\n",
    "        param is_shuffle = shuffle split data\n",
    "        param seed = cross-validation generator or an iterabl k-fold 5.\n",
    "    \"\"\"\n",
    "    # Set the number of testing points\n",
    "    if is_clean:\n",
    "        X_all = df_x.map(lambda x: clean_text(x, 'english'))\n",
    "    else:\n",
    "        X_all = df_x #features\n",
    "\n",
    "    y_all = df_y #label\n",
    "    \n",
    "    #Set the number of testing points\n",
    "    if is_shuffle:\n",
    "        X_train, X_test, y_train, y_test = train_test_split(\n",
    "                                                X_all, \n",
    "                                                y_all, \n",
    "                                                test_size=0.2,   # 80% train/cv, 20% test (5 CV)\n",
    "                                                stratify=y_all,\n",
    "                                                random_state=seed,\n",
    "                                                shuffle=True)\n",
    "        # Shuffle and split the dataset into the number of training and testing points above\n",
    "    else:\n",
    "        X_train, X_test, y_train, y_test = train_test_split(X_all, y_all, \n",
    "                                                    test_size=0.2,   # 80% train/cv, 20% test\n",
    "                                                    random_state=seed,\n",
    "                                                   )\n",
    "        \n",
    "    print('X shape:', X_all.shape, 'y shape:', y_all.shape, 'X_train:', X_train.shape, 'y_train:', y_train.shape,'X_test:', X_test.shape, 'y_test:', y_test.shape)\n",
    "\n",
    "    return  X_train, X_test, y_train, y_test;"
   ]
  },
  {
   "cell_type": "code",
   "execution_count": 50,
   "metadata": {},
   "outputs": [],
   "source": [
    "# tokenizer words in vectors TfidfVectorizer\n",
    "from sklearn.feature_extraction.text import TfidfVectorizer\n",
    "def tokenize_TfidfVectorizer(X_train, X_test, stop_words, is_bigram:True):\n",
    "    \n",
    "    if is_bigram:\n",
    "        word_vectorizer = TfidfVectorizer(\n",
    "                            sublinear_tf=True, # set to true to scale the term frequency in logarithmic scale.\n",
    "                            min_df=5,\n",
    "                            stop_words=stop_words,\n",
    "                            #strip_accents='unicode',\n",
    "                            #token_pattern=r'\\w{1,}',\n",
    "                            #analyzer='word',\n",
    "                            ngram_range=(1, 2));\n",
    "    \n",
    "    else: #only-gram\n",
    "        \n",
    "        word_vectorizer = TfidfVectorizer(\n",
    "                            sublinear_tf=True, # set to true to scale the term frequency in logarithmic scale.\n",
    "                            min_df=5,\n",
    "                            stop_words=stop_words,\n",
    "                            #strip_accents='unicode',\n",
    "                            #token_pattern=r'\\w{1,}',\n",
    "                            #analyzer='word',\n",
    "                            ngram_range=(1, 1));\n",
    "\n",
    "    X_train = word_vectorizer.fit_transform(X_train).toarray()\n",
    "    X_test = word_vectorizer.transform(X_test)\n",
    "\n",
    "    return {\n",
    "        'X_train': X_train,\n",
    "        'X_test': X_test,\n",
    "        'word_vectorizer': word_vectorizer\n",
    "    }"
   ]
  },
  {
   "cell_type": "markdown",
   "metadata": {},
   "source": [
    "To train supervised classifiers, we first transformed the `complaint_text` into a vector of numbers so that the algorithms to be used are able to make prediction. In this case, the term `Frequency - Reverse Document Frequency (TFIDF)` like bag of words to will be used to assess the importance of a word for a complaint in a complaints collection. As the text is long, the removal of `stop words` is also considered.\n",
    "\n",
    "After removing the punctuation and remove stop words, the importance of a word is determined in terms of its frequency.\n",
    "\n",
    "#### 04. Split test and train data\n",
    "\n",
    "It should return the follow tuples:\n",
    "\n",
    "* `X_train` `y_train` - selected training features and their corresponding product labels without text clean \n",
    "\n",
    "* `X_test` `y_test` - selected training features and their corresponding produt labels without text clean \n",
    "\n",
    "* `X_test_clean` and `y_test_clean` - selected training features and their corresponding produt labels with text clean \n",
    "\n"
   ]
  },
  {
   "cell_type": "code",
   "execution_count": 51,
   "metadata": {},
   "outputs": [
    {
     "name": "stdout",
     "output_type": "stream",
     "text": [
      "X shape: (2628,) y shape: (2628,) X_train: (2102,) y_train: (2102,) X_test: (526,) y_test: (526,)\n"
     ]
    }
   ],
   "source": [
    "is_shuffle=True\n",
    "\n",
    "# split data with clean text\n",
    "is_clean=False\n",
    "X_train, X_test, y_train, y_test = split_data(pre_features, products, is_clean, is_shuffle, seed)\n"
   ]
  },
  {
   "cell_type": "code",
   "execution_count": 52,
   "metadata": {},
   "outputs": [],
   "source": [
    "### bigram and text clean\n",
    "\n",
    "is_bigram=True\n",
    "stop_words='english'\n",
    "\n",
    "tokens = tokenize_TfidfVectorizer(X_train, X_test, stop_words, is_bigram)\n",
    "_X_train = tokens['X_train']\n",
    "_X_test = tokens['X_test']\n",
    "_word_vectorizer = tokens['word_vectorizer']\n",
    "\n",
    "\n",
    "### Transform each complaint into a vector\n",
    "\n",
    "#_pre_features = _word_vectorizer.fit_transform(pre_features).toarray()\n",
    "#print(\"Each of the %d complaints is represented by %d features (representing TfidfVectorizer score of bigrams and clean text)\" %(_pre_features.shape))\n",
    "#train.features_correlated(_word_vectorizer,_pre_features, df_products, df_products_id, product_to_id, 5)\n",
    "#print('-' *30)\n",
    "#print('-' *30)"
   ]
  },
  {
   "cell_type": "markdown",
   "metadata": {},
   "source": [
    "#### 05. Evalute Models"
   ]
  },
  {
   "cell_type": "markdown",
   "metadata": {},
   "source": [
    "The proposed models were trained and based on the above statistics, the two best ones were identified and chosen for evaluation: SVM Linear SVC and Logistic Regression. Precision metric was the metric used to choose these two models.\n",
    "\n",
    "Below, a report was generated with the statistics obtained by model."
   ]
  },
  {
   "cell_type": "code",
   "execution_count": 53,
   "metadata": {},
   "outputs": [
    {
     "name": "stdout",
     "output_type": "stream",
     "text": [
      "------------------------------\n",
      "------------------------------\n",
      "# Model: LogisticRegression\n",
      "LogisticRegression Model Accuracy Score 73.76425855513308\n",
      "------------------------------\n",
      "------------------------------\n",
      "# Classification Report\n",
      "                                                    precision    recall  f1-score   support\n",
      "\n",
      "                           Bank account or service       0.69      0.60      0.64        58\n",
      "                       Checking or savings account       0.61      0.67      0.64        58\n",
      "                       Credit card or prepaid card       0.71      0.86      0.78        59\n",
      "                Credit reporting, repair, or other       0.82      0.71      0.76        59\n",
      "                                   Debt collection       0.76      0.69      0.73        59\n",
      "                                              Loan       0.73      0.79      0.76        58\n",
      "Money transfer, virtual currency, or money service       0.72      0.76      0.74        58\n",
      "                                          Mortgage       0.86      0.83      0.84        59\n",
      "                           Other financial service       0.77      0.71      0.74        58\n",
      "\n",
      "                                          accuracy                           0.74       526\n",
      "                                         macro avg       0.74      0.74      0.74       526\n",
      "                                      weighted avg       0.74      0.74      0.74       526\n",
      "\n",
      "------------------------------\n",
      "------------------------------\n",
      "Confusion Matrix for LogisticRegression\n"
     ]
    },
    {
     "data": {
      "image/png": "[encoded data removed]",
      "text/plain": [
       "<Figure size 720x720 with 2 Axes>"
      ]
     },
     "metadata": {},
     "output_type": "display_data"
    },
    {
     "name": "stdout",
     "output_type": "stream",
     "text": [
      "------------------------------\n",
      "------------------------------\n",
      "------------------------------\n",
      "------------------------------\n",
      "# Model: LinearSVC\n",
      "LinearSVC Model Accuracy Score 72.43346007604563\n",
      "------------------------------\n",
      "------------------------------\n",
      "# Classification Report\n",
      "                                                    precision    recall  f1-score   support\n",
      "\n",
      "                           Bank account or service       0.62      0.55      0.58        58\n",
      "                       Checking or savings account       0.60      0.67      0.63        58\n",
      "                       Credit card or prepaid card       0.71      0.83      0.77        59\n",
      "                Credit reporting, repair, or other       0.76      0.69      0.73        59\n",
      "                                   Debt collection       0.83      0.68      0.75        59\n",
      "                                              Loan       0.70      0.78      0.74        58\n",
      "Money transfer, virtual currency, or money service       0.70      0.74      0.72        58\n",
      "                                          Mortgage       0.83      0.85      0.84        59\n",
      "                           Other financial service       0.79      0.72      0.76        58\n",
      "\n",
      "                                          accuracy                           0.72       526\n",
      "                                         macro avg       0.73      0.72      0.72       526\n",
      "                                      weighted avg       0.73      0.72      0.72       526\n",
      "\n",
      "------------------------------\n",
      "------------------------------\n",
      "Confusion Matrix for LinearSVC\n"
     ]
    },
    {
     "data": {
      "image/png": "[encoded data removed]",
      "text/plain": [
       "<Figure size 720x720 with 2 Axes>"
      ]
     },
     "metadata": {},
     "output_type": "display_data"
    },
    {
     "name": "stdout",
     "output_type": "stream",
     "text": [
      "------------------------------\n",
      "------------------------------\n"
     ]
    }
   ],
   "source": [
    "# Classification Report\n",
    "p = products.drop_duplicates()\n",
    "p = p.copy()\n",
    "\n",
    "models = [\n",
    "        ('LogisticRegression', LogisticRegression(random_state=seed)),\n",
    "        ('LinearSVC', LinearSVC())\n",
    "        ]\n",
    "names = []\n",
    "for name, model in models:\n",
    "    model = model.fit(_X_train, y_train)\n",
    "    y_pred = model.predict(_X_test)\n",
    "    print(\"-\"*30)\n",
    "    print(\"-\"*30)\n",
    "    print(\"# Model: \" + name)\n",
    "    print(name + ' Model Accuracy Score', accuracy_score(y_test,y_pred)*100)\n",
    "    print(\"-\"*30)\n",
    "    print(\"-\"*30)\n",
    "    print('# Classification Report')\n",
    "    print(classification_report(y_test, y_pred))\n",
    "    print(\"-\"*30)\n",
    "    print(\"-\"*30)\n",
    "    print('Confusion Matrix for ' + name)\n",
    "    #print(confusion_matrix(y_test, y_pred))\n",
    "    conf_mat = confusion_matrix(y_test, y_pred)\n",
    "    sns.set(font_scale=1)\n",
    "    fig, ax = plt.subplots(figsize=(10,10))\n",
    "    sns.heatmap(conf_mat, annot=True, annot_kws={\"size\":10}, cmap=\"RdYlGn\", square=True, fmt='d',\n",
    "                xticklabels= p.values, yticklabels= p.values)\n",
    "    plt.ylabel('Actual Product', fontsize = 10)\n",
    "    plt.xlabel('Predicted Product', fontsize = 10)\n",
    "    plt.title('Confusion Matrix - '+ name)\n",
    "    plt.show()\n",
    "    print(\"-\"*30)\n",
    "    print(\"-\"*30)\n",
    "    #plot_precision_recall_curve(model, y_test, y_pred)\n",
    "    #plt.title('Precision-Recall Curve - '+ name)\n",
    "    #plt.show()\n"
   ]
  },
  {
   "cell_type": "markdown",
   "metadata": {},
   "source": [
    "\n",
    "#### Validate chosen models\n",
    "\n",
    "After selecting the two best models, I will try to make some tests of the model to see if the behavior is what is expected.\n",
    "\n",
    "I will create the models and the predictor, to \n",
    "make the necessary tests.\n",
    "\n",
    "After the tests I will save the model to use in the app.\n"
   ]
  },
  {
   "cell_type": "markdown",
   "metadata": {},
   "source": [
    "**Logistic Regression Model**"
   ]
  },
  {
   "cell_type": "code",
   "execution_count": 54,
   "metadata": {},
   "outputs": [
    {
     "name": "stdout",
     "output_type": "stream",
     "text": [
      "Logistic Regression Model Accuracy Score 73.76425855513308\n"
     ]
    }
   ],
   "source": [
    "# Initializing our chosen logreg model\n",
    "LogisticRegression = LogisticRegression(random_state=seed)\n",
    "\n",
    "# Fitting our model\n",
    "LogisticRegression_fit = LogisticRegression.fit(_X_train, y_train)\n",
    "\n",
    "# Obtaining prediction\n",
    "y_prediction_LogisticRegression = LogisticRegression_fit.predict(_X_test)\n",
    "\n",
    "print('Logistic Regression Model Accuracy Score', accuracy_score(y_test, y_prediction_LogisticRegression)*100)"
   ]
  },
  {
   "cell_type": "code",
   "execution_count": 55,
   "metadata": {},
   "outputs": [
    {
     "name": "stdout",
     "output_type": "stream",
     "text": [
      "[\"I own a XXXX wanted to transfer money from XXXX banks to Huntington so it was more convenient than my small town banks. Was told to give irs ein which is under my ss # she said no problem we can look it up that way. Now today when I go with everything she asked for, and I have a witness, she said no that even since ein # has been ur ss # since 1998 they demand me to change it ... XXXX!! Huntington you can praise your XXXX Indiana branch for losing you thousands of dollars, but I 'm sure that does n't effect your highway robbery business ... ..pissed as XXXX customer\"]\n",
      "['Bank account or service']\n"
     ]
    }
   ],
   "source": [
    "# Create at a sample text\n",
    "complaint_text = list(df_complaints_final.complaint_text[:3])[2]\n",
    "\n",
    "# Converting to a list for TfidfVectorizer to use\n",
    "list_sample_complaint_text = []\n",
    "list_sample_complaint_text.append(complaint_text)\n",
    "list_sample_complaint_text \n",
    "\n",
    "print(list_sample_complaint_text)\n",
    "print(LogisticRegression_fit.predict(_word_vectorizer.transform(list_sample_complaint_text)))"
   ]
  },
  {
   "cell_type": "code",
   "execution_count": 56,
   "metadata": {},
   "outputs": [
    {
     "name": "stdout",
     "output_type": "stream",
     "text": [
      "['Debt collection']\n"
     ]
    }
   ],
   "source": [
    "print(LogisticRegression_fit.predict(_word_vectorizer.transform([\"This company refuses to provide me verification and validation of debt per my right under the FDCPA. I do not believe this debt is mine.\"])))"
   ]
  },
  {
   "cell_type": "markdown",
   "metadata": {},
   "source": [
    "**Linear SVC**"
   ]
  },
  {
   "cell_type": "code",
   "execution_count": 57,
   "metadata": {},
   "outputs": [
    {
     "name": "stdout",
     "output_type": "stream",
     "text": [
      "Linear SVC Model Accuracy Score 72.43346007604563\n"
     ]
    }
   ],
   "source": [
    "# Initializing our chosen logreg model\n",
    "LinearSVC = LinearSVC(random_state=seed)\n",
    "\n",
    "# Fitting our model\n",
    "LinearSVC_fit = LinearSVC.fit(_X_train, y_train)\n",
    "\n",
    "# Obtaining prediction\n",
    "y_prediction_LinearSVC = LinearSVC.predict(_X_test)\n",
    "\n",
    "print('Linear SVC Model Accuracy Score', accuracy_score(y_test, y_prediction_LinearSVC)*100)"
   ]
  },
  {
   "cell_type": "code",
   "execution_count": 58,
   "metadata": {},
   "outputs": [
    {
     "name": "stdout",
     "output_type": "stream",
     "text": [
      "[\"I own a XXXX wanted to transfer money from XXXX banks to Huntington so it was more convenient than my small town banks. Was told to give irs ein which is under my ss # she said no problem we can look it up that way. Now today when I go with everything she asked for, and I have a witness, she said no that even since ein # has been ur ss # since 1998 they demand me to change it ... XXXX!! Huntington you can praise your XXXX Indiana branch for losing you thousands of dollars, but I 'm sure that does n't effect your highway robbery business ... ..pissed as XXXX customer\"]\n",
      "['Bank account or service']\n"
     ]
    }
   ],
   "source": [
    "print(list_sample_complaint_text)\n",
    "print(LinearSVC_fit.predict(_word_vectorizer.transform(list_sample_complaint_text)))"
   ]
  },
  {
   "cell_type": "markdown",
   "metadata": {},
   "source": [
    "After some tests it turns out that some of the complaints are poorly classified because they address more than one particular issue. Or one can also verify that new complaints that have nothing to do with the financial subject are classified to products that have nothing to do with it.\n",
    "\n",
    "Regarding the former, these are errors that will normally happen (a complaint can say debit card and loans and is classified for one of them). Regarding the second problem, I can advance that in future work a product can be created (\"Others\") where these complaints can \"enter\"."
   ]
  },
  {
   "cell_type": "markdown",
   "metadata": {},
   "source": [
    "#### Refinement and training Model\n",
    "\n",
    "Due to the performance challenge of my machine, during the implementation of the models several tests and simulations were carried out, leading to the refinement of the models according to the needs.\n",
    "New models were defined to train the data set, variations of the models already selected with the use of different parameters and some models were also removed due to performance problems in their execution:\n",
    "\n",
    "Unbalanced Classes: I have chosen to consolidate the products in other products classes.\n",
    "\n",
    "Bag of Words: To create the bag of words, I considered TfidfVectorizer and CountVectorizer. Some models performed better than others, but in the end, I chose the simulations that used the TfidfVectorizer. In this case, TFIDF will be used to assess the importance of a word for a complaint in a complaints collection.\n",
    "\n",
    "Cleaning of the narratives: I considered carrying out the cleaning of the narratives to apply the TfidfVectorizer and the CountVectorizer. Following this, eight pre-processed data subsets were created to test the model’s performance.\n",
    "\n",
    "Parameters: A number of parameters were set as the simulations were carried out. I used cross validate to analyze the accuracy and the remaining macro metrics (in weighted and average terms). \n",
    "In the end, due to performance problems, I chose not to apply several changes in the parameters, in order to have a good classifier that could be used in the evaluation phase.\n"
   ]
  },
  {
   "cell_type": "markdown",
   "metadata": {},
   "source": [
    "\n",
    "**Validate refined model**\n",
    "\n",
    "TBD"
   ]
  },
  {
   "cell_type": "markdown",
   "metadata": {},
   "source": [
    "**Save predict model to deploy Validate**"
   ]
  },
  {
   "cell_type": "code",
   "execution_count": 59,
   "metadata": {},
   "outputs": [],
   "source": [
    "# 1. Pickling our subsetted dataframe\n",
    "dest_folder = '../../src/ml-webapp/models/';\n",
    "file_name = 'word_vectorizer'\n",
    "save_pickle(dest_folder, _word_vectorizer, file_name);\n",
    "\n",
    "# Models\n",
    "file_name = 'LinearSVC'\n",
    "save_pickle(dest_folder, LinearSVC, file_name);\n",
    "\n",
    "file_name = 'LogisticRegression'\n",
    "save_pickle(dest_folder, LogisticRegression, file_name);"
   ]
  },
  {
   "cell_type": "markdown",
   "metadata": {},
   "source": [
    "**Deployment Model**\n",
    "\n",
    "In the last phase, in the scope of this notebook, I prepared an app, which will allow iteract with the models.\n",
    "This app was developed with resource the Streamlit, in python.\n",
    "\n",
    "The purpose of this app is to ensure that we can classify complaints in a fast and interactive way.\n",
    "Through this app, the user can test the predictions of the selected models.\n",
    "\n",
    "The app has not been published online, but can be run locally using the following command:\n",
    "\n",
    "`cd src\n",
    "cd ml-webapp\n",
    "cd app\n",
    "streamlit run myclassifier.py`\n",
    "\n",
    "You can now view your Streamlit app in your browser.\n",
    "\n",
    "Local URL: `http://localhost:8501`"
   ]
  },
  {
   "cell_type": "code",
   "execution_count": null,
   "metadata": {},
   "outputs": [],
   "source": [
    "# Terminal usage:\n",
    "!cd src\n",
    "!cd ml-webapp\n",
    "!cd app\n",
    "!streamlit run myclassifier.py"
   ]
  },
  {
   "cell_type": "markdown",
   "metadata": {},
   "source": [
    "-------\n",
    "-------"
   ]
  }
 ],
 "metadata": {
  "kernelspec": {
   "display_name": "Python 3",
   "language": "python",
   "name": "python3"
  },
  "language_info": {
   "codemirror_mode": {
    "name": "ipython",
    "version": 3
   },
   "file_extension": ".py",
   "mimetype": "text/x-python",
   "name": "python",
   "nbconvert_exporter": "python",
   "pygments_lexer": "ipython3",
   "version": "3.9.1"
  }
 },
 "nbformat": 4,
 "nbformat_minor": 2
}
