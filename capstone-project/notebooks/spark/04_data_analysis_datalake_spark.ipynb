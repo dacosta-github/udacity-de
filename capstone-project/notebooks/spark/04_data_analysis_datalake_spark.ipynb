{
 "cells": [
  {
   "cell_type": "markdown",
   "metadata": {},
   "source": [
    "# Capstone project: Financial companies complaints analysis\n",
    "## Data Analytics with Spark"
   ]
  },
  {
   "cell_type": "markdown",
   "metadata": {},
   "source": [
    "#### Step 1 - Importing packages"
   ]
  },
  {
   "cell_type": "code",
   "execution_count": 7,
   "metadata": {},
   "outputs": [],
   "source": [
    "# General:\n",
    "import pandas as pd\n",
    "import pandas.io.sql as sqlio\n",
    "import numpy as np\n",
    "import os\n",
    "import re\n",
    "\n",
    "# Database:\n",
    "import psycopg2\n",
    "import keyring\n",
    "import getpass\n",
    "import pyspark\n",
    "\n",
    "\n",
    "# Viz\n",
    "import matplotlib\n",
    "import matplotlib.pyplot as plt\n",
    "\n",
    "# My libraries:\n",
    "import sys\n",
    "sys.path.insert(0, '../config')\n",
    "\n",
    "# Warnings\n",
    "import warnings; warnings.simplefilter('ignore')"
   ]
  },
  {
   "cell_type": "markdown",
   "metadata": {},
   "source": [
    "#### Step 2 - Configuration File"
   ]
  },
  {
   "cell_type": "code",
   "execution_count": 2,
   "metadata": {},
   "outputs": [
    {
     "data": {
      "text/plain": [
       "['../config/dwh.cfg']"
      ]
     },
     "execution_count": 2,
     "metadata": {},
     "output_type": "execute_result"
    }
   ],
   "source": [
    "import configparser\n",
    "\n",
    "config = configparser.ConfigParser()\n",
    "config.read('../config/dwh.cfg')"
   ]
  },
  {
   "cell_type": "code",
   "execution_count": 3,
   "metadata": {},
   "outputs": [
    {
     "data": {
      "text/plain": [
       "<configparser.ConfigParser at 0x7ff5df6a2a30>"
      ]
     },
     "execution_count": 3,
     "metadata": {},
     "output_type": "execute_result"
    }
   ],
   "source": [
    "config"
   ]
  },
  {
   "cell_type": "markdown",
   "metadata": {},
   "source": [
    "#### Step 3 - Define Connection to AWS Redshift Database"
   ]
  },
  {
   "cell_type": "code",
   "execution_count": 4,
   "metadata": {},
   "outputs": [
    {
     "name": "stdout",
     "output_type": "stream",
     "text": [
      "I am connected to the database!\n"
     ]
    }
   ],
   "source": [
    "'''\n",
    "Database Connection\n",
    "\n",
    "Requirements: \n",
    "    1. AWS Redshift credentials\n",
    "'''\n",
    "\n",
    "p = keyring.get_password('redshift', 'user_name')\n",
    "HOST = config.get('CLUSTER', 'HOST')\n",
    "DB_NAME =  config.get('CLUSTER', 'DB_NAME')\n",
    "DB_USER = config.get('CLUSTER', 'DB_USER')\n",
    "DB_PASSWORD = config.get('CLUSTER', 'DB_PASSWORD')\n",
    "DB_PORT = config.get('CLUSTER', 'DB_PORT')\n",
    "\n",
    "a = \"user='{}' password='{}' host='{}' port='{}' dbname='{}' \".format(DB_USER, DB_PASSWORD, HOST, DB_PORT, DB_NAME)\n",
    "\n",
    "#print(a)\n",
    "\n",
    "try:\n",
    "    conn = psycopg2.connect(\n",
    "        \"user='{}' password='{}' host='{}' port='{}' dbname='{}' \".format(DB_USER, DB_PASSWORD, HOST, DB_PORT, DB_NAME))\n",
    "\n",
    "    cursor = conn.cursor()\n",
    "    print('I am connected to the database!')\n",
    "except:\n",
    "    print('I am unable to connect to the database! Please, enter with your credentials.')"
   ]
  },
  {
   "cell_type": "code",
   "execution_count": 8,
   "metadata": {},
   "outputs": [],
   "source": [
    "# SPARK\n",
    "sc = pyspark.SparkContext('local[*]')\n"
   ]
  },
  {
   "cell_type": "code",
   "execution_count": 9,
   "metadata": {},
   "outputs": [],
   "source": [
    "spark = pyspark.sql.SparkSession \\\n",
    "     .builder \\\n",
    "     .master('local[*]') \\\n",
    "     .appName('Python Spark to Consumer Complaints') \\\n",
    "     .getOrCreate()"
   ]
  },
  {
   "cell_type": "markdown",
   "metadata": {},
   "source": [
    "#### Step 4 - Extracting data"
   ]
  },
  {
   "cell_type": "code",
   "execution_count": 10,
   "metadata": {},
   "outputs": [],
   "source": [
    "# read source file\n",
    "pd_df = pd.read_csv('../data/source/complaints.csv')\n",
    "pd_df.columns = [col.lower().replace(' ', '_') for col in \n",
    "                 pd_df.columns]\n",
    "\n",
    "# convert in parquet\n",
    "pd_df.to_parquet('../data/raw/consumer_complaints.parquet')"
   ]
  },
  {
   "cell_type": "markdown",
   "metadata": {},
   "source": [
    "#### Check tables"
   ]
  },
  {
   "cell_type": "code",
   "execution_count": 11,
   "metadata": {},
   "outputs": [],
   "source": [
    "df = spark.read.load('../data/raw/consumer_complaints.parquet',\n",
    "     inferSchema='true', header='true')"
   ]
  },
  {
   "cell_type": "code",
   "execution_count": 14,
   "metadata": {},
   "outputs": [
    {
     "data": {
      "text/plain": [
       "Row(date_received='2019-09-24', product='Debt collection', sub-product='I do not know', issue='Attempts to collect debt not owed', sub-issue='Debt is not yours', consumer_complaint_narrative='transworld systems inc. \\nis trying to collect a debt that is not mine, not owed and is inaccurate.', company_public_response=None, company='TRANSWORLD SYSTEMS INC', state='FL', zip_code='335XX', tags=None, consumer_consent_provided?='Consent provided', submitted_via='Web', date_sent_to_company='2019-09-24', company_response_to_consumer='Closed with explanation', timely_response?='Yes', consumer_disputed?=None, complaint_id=3384392)"
      ]
     },
     "execution_count": 14,
     "metadata": {},
     "output_type": "execute_result"
    }
   ],
   "source": [
    "df.head()"
   ]
  },
  {
   "cell_type": "markdown",
   "metadata": {},
   "source": [
    "#### Analysis"
   ]
  },
  {
   "cell_type": "code",
   "execution_count": 20,
   "metadata": {},
   "outputs": [
    {
     "data": {
      "text/plain": [
       "[Row(date=datetime.date(2011, 12, 1))]"
      ]
     },
     "execution_count": 20,
     "metadata": {},
     "output_type": "execute_result"
    }
   ],
   "source": [
    "from pyspark.sql.functions import to_date\n",
    "first_date = df.select(to_date(df.date_received, 'yyyy-MM-dd').alias('date')).orderBy('date').take(1)\n",
    "first_date"
   ]
  },
  {
   "cell_type": "code",
   "execution_count": 21,
   "metadata": {},
   "outputs": [
    {
     "data": {
      "text/plain": [
       "[Row(date=datetime.date(2021, 3, 26))]"
      ]
     },
     "execution_count": 21,
     "metadata": {},
     "output_type": "execute_result"
    }
   ],
   "source": [
    "last_date = df.select(to_date(df.date_received, 'yyyy-MM-dd').alias('date')).orderBy('date', ascending=False).take(1)\n",
    "last_date"
   ]
  },
  {
   "cell_type": "code",
   "execution_count": 22,
   "metadata": {},
   "outputs": [
    {
     "data": {
      "text/plain": [
       "594.0170437848957"
      ]
     },
     "execution_count": 22,
     "metadata": {},
     "output_type": "execute_result"
    }
   ],
   "source": [
    "## How many complaints do we have total? Per day?\n",
    "days = last_date[0]['date']-first_date[0]['date']\n",
    "df.count()/days.days"
   ]
  },
  {
   "cell_type": "code",
   "execution_count": 23,
   "metadata": {},
   "outputs": [],
   "source": [
    "dates = df.select(to_date(df.date_received, 'yyyy-MM-dd').alias('date'))\n",
    "complaints_per_day_pd =dates.groupBy('date').count().sort('date').toPandas()"
   ]
  },
  {
   "cell_type": "code",
   "execution_count": 25,
   "metadata": {},
   "outputs": [
    {
     "name": "stdout",
     "output_type": "stream",
     "text": [
      "+----------+-----+\n",
      "|      date|count|\n",
      "+----------+-----+\n",
      "|2017-09-08| 3553|\n",
      "+----------+-----+\n",
      "\n"
     ]
    }
   ],
   "source": [
    "daily_complaint_counts = dates.groupBy('date').count()\n",
    "daily_complaint_counts.filter(\n",
    "     daily_complaint_counts['count'] > 3500) \\\n",
    "     .orderBy('date').show()"
   ]
  },
  {
   "cell_type": "code",
   "execution_count": null,
   "metadata": {},
   "outputs": [],
   "source": [
    "## Which companies got the most complaints?"
   ]
  },
  {
   "cell_type": "code",
   "execution_count": 30,
   "metadata": {},
   "outputs": [],
   "source": [
    "company_counts = df.groupBy('company').count()\n",
    "company_counts_for_graph = company_counts.filter(\n",
    "     company_counts['count'] >21000) \\\n",
    "     .sort('count', ascending=False).toPandas()"
   ]
  },
  {
   "cell_type": "code",
   "execution_count": 31,
   "metadata": {},
   "outputs": [
    {
     "data": {
      "text/plain": [
       "<AxesSubplot:xlabel='company'>"
      ]
     },
     "execution_count": 31,
     "metadata": {},
     "output_type": "execute_result"
    },
    {
     "data": {
      "image/png": "[encoded data removed]",
      "text/plain": [
       "<Figure size 432x288 with 1 Axes>"
      ]
     },
     "metadata": {
      "needs_background": "light"
     },
     "output_type": "display_data"
    }
   ],
   "source": [
    "company_counts_for_graph.plot(kind='bar',x='company',y='count')"
   ]
  },
  {
   "cell_type": "code",
   "execution_count": 37,
   "metadata": {},
   "outputs": [
    {
     "data": {
      "text/plain": [
       "<AxesSubplot:xlabel='submitted_via'>"
      ]
     },
     "execution_count": 37,
     "metadata": {},
     "output_type": "execute_result"
    },
    {
     "data": {
      "image/png": "[encoded data removed]",
      "text/plain": [
       "<Figure size 432x288 with 1 Axes>"
      ]
     },
     "metadata": {
      "needs_background": "light"
     },
     "output_type": "display_data"
    }
   ],
   "source": [
    "## How are the complaints received? Mostly via the web.\n",
    "a = df.groupBy('submitted_via').count().sort('count', ascending=False).toPandas()\n",
    "a.plot(kind='bar',x='submitted_via',y='count')"
   ]
  },
  {
   "cell_type": "markdown",
   "metadata": {},
   "source": [
    "-----\n",
    "-----"
   ]
  }
 ],
 "metadata": {
  "kernelspec": {
   "display_name": "Python 3",
   "language": "python",
   "name": "python3"
  },
  "language_info": {
   "codemirror_mode": {
    "name": "ipython",
    "version": 3
   },
   "file_extension": ".py",
   "mimetype": "text/x-python",
   "name": "python",
   "nbconvert_exporter": "python",
   "pygments_lexer": "ipython3",
   "version": "3.9.1"
  }
 },
 "nbformat": 4,
 "nbformat_minor": 2
}
