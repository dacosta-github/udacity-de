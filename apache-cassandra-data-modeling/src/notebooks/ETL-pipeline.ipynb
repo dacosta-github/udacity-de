{
 "cells": [
  {
   "cell_type": "markdown",
   "metadata": {},
   "source": [
    "# Project 2 - Apache Cassandra Data Modeling"
   ]
  },
  {
   "cell_type": "markdown",
   "metadata": {},
   "source": [
    "_**NOTE**: To better understand what has been done, please read first the README that is inside the project folder in Github:\n",
    "**udacity-de/apache-cassandra-data-modeling/README.md**_"
   ]
  },
  {
   "cell_type": "markdown",
   "metadata": {},
   "source": [
    "# Part I. ETL Pipeline for Pre-Processing the Files"
   ]
  },
  {
   "cell_type": "markdown",
   "metadata": {},
   "source": [
    "## PLEASE RUN THE FOLLOWING CODE FOR PRE-PROCESSING THE FILES"
   ]
  },
  {
   "cell_type": "markdown",
   "metadata": {},
   "source": [
    "#### Import Python packages "
   ]
  },
  {
   "cell_type": "code",
   "execution_count": 1,
   "metadata": {},
   "outputs": [],
   "source": [
    "# import python packages \n",
    "import pandas as pd\n",
    "import cassandra\n",
    "import re\n",
    "import os\n",
    "import glob\n",
    "import numpy as np\n",
    "import json\n",
    "import csv\n",
    "from os.path import dirname"
   ]
  },
  {
   "cell_type": "markdown",
   "metadata": {},
   "source": [
    "#### Creating list of filepaths to process original event csv data files"
   ]
  },
  {
   "cell_type": "code",
   "execution_count": 2,
   "metadata": {},
   "outputs": [
    {
     "name": "stdout",
     "output_type": "stream",
     "text": [
      "/Users/sergiodacosta/Documents/_github/udacity-de/apache-cassandra-data-modeling/src/notebooks\n",
      "['/Users/sergiodacosta/Documents/_github/udacity-de/apache-cassandra-data-modeling/data/event_data/2018-11-15-events.csv', '/Users/sergiodacosta/Documents/_github/udacity-de/apache-cassandra-data-modeling/data/event_data/2018-11-22-events.csv', '/Users/sergiodacosta/Documents/_github/udacity-de/apache-cassandra-data-modeling/data/event_data/2018-11-09-events.csv', '/Users/sergiodacosta/Documents/_github/udacity-de/apache-cassandra-data-modeling/data/event_data/2018-11-18-events.csv', '/Users/sergiodacosta/Documents/_github/udacity-de/apache-cassandra-data-modeling/data/event_data/2018-11-04-events.csv', '/Users/sergiodacosta/Documents/_github/udacity-de/apache-cassandra-data-modeling/data/event_data/2018-11-01-events.csv', '/Users/sergiodacosta/Documents/_github/udacity-de/apache-cassandra-data-modeling/data/event_data/2018-11-27-events.csv', '/Users/sergiodacosta/Documents/_github/udacity-de/apache-cassandra-data-modeling/data/event_data/2018-11-10-events.csv', '/Users/sergiodacosta/Documents/_github/udacity-de/apache-cassandra-data-modeling/data/event_data/2018-11-20-events.csv', '/Users/sergiodacosta/Documents/_github/udacity-de/apache-cassandra-data-modeling/data/event_data/2018-11-17-events.csv', '/Users/sergiodacosta/Documents/_github/udacity-de/apache-cassandra-data-modeling/data/event_data/2018-11-06-events.csv', '/Users/sergiodacosta/Documents/_github/udacity-de/apache-cassandra-data-modeling/data/event_data/2018-11-03-events.csv', '/Users/sergiodacosta/Documents/_github/udacity-de/apache-cassandra-data-modeling/data/event_data/2018-11-28-events.csv', '/Users/sergiodacosta/Documents/_github/udacity-de/apache-cassandra-data-modeling/data/event_data/2018-11-12-events.csv', '/Users/sergiodacosta/Documents/_github/udacity-de/apache-cassandra-data-modeling/data/event_data/2018-11-25-events.csv', '/Users/sergiodacosta/Documents/_github/udacity-de/apache-cassandra-data-modeling/data/event_data/2018-11-26-events.csv', '/Users/sergiodacosta/Documents/_github/udacity-de/apache-cassandra-data-modeling/data/event_data/2018-11-11-events.csv', '/Users/sergiodacosta/Documents/_github/udacity-de/apache-cassandra-data-modeling/data/event_data/2018-11-14-events.csv', '/Users/sergiodacosta/Documents/_github/udacity-de/apache-cassandra-data-modeling/data/event_data/2018-11-23-events.csv', '/Users/sergiodacosta/Documents/_github/udacity-de/apache-cassandra-data-modeling/data/event_data/2018-11-08-events.csv', '/Users/sergiodacosta/Documents/_github/udacity-de/apache-cassandra-data-modeling/data/event_data/2018-11-19-events.csv', '/Users/sergiodacosta/Documents/_github/udacity-de/apache-cassandra-data-modeling/data/event_data/2018-11-05-events.csv', '/Users/sergiodacosta/Documents/_github/udacity-de/apache-cassandra-data-modeling/data/event_data/2018-11-02-events.csv', '/Users/sergiodacosta/Documents/_github/udacity-de/apache-cassandra-data-modeling/data/event_data/2018-11-29-events.csv', '/Users/sergiodacosta/Documents/_github/udacity-de/apache-cassandra-data-modeling/data/event_data/2018-11-13-events.csv', '/Users/sergiodacosta/Documents/_github/udacity-de/apache-cassandra-data-modeling/data/event_data/2018-11-24-events.csv', '/Users/sergiodacosta/Documents/_github/udacity-de/apache-cassandra-data-modeling/data/event_data/2018-11-21-events.csv', '/Users/sergiodacosta/Documents/_github/udacity-de/apache-cassandra-data-modeling/data/event_data/2018-11-16-events.csv', '/Users/sergiodacosta/Documents/_github/udacity-de/apache-cassandra-data-modeling/data/event_data/2018-11-07-events.csv', '/Users/sergiodacosta/Documents/_github/udacity-de/apache-cassandra-data-modeling/data/event_data/2018-11-30-events.csv']\n",
      "30\n"
     ]
    }
   ],
   "source": [
    "# checking the current working directory\n",
    "print(os.getcwd())\n",
    "\n",
    "# get the current folder and subfolder event data\n",
    "filepath = dirname(dirname(os.getcwd())) + '/data/event_data'\n",
    "\n",
    "# collect each filepath\n",
    "for root, dirs, files in os.walk(filepath):\n",
    "    # join the file path and roots with the subdirectories using glob\n",
    "    file_path_list = glob.glob(os.path.join(root,'*'))\n",
    "    print(file_path_list)\n",
    "\n",
    "# check number of files\n",
    "print(len(file_path_list))"
   ]
  },
  {
   "cell_type": "markdown",
   "metadata": {},
   "source": [
    "#### Processing the files to create the data file csv that will be used for Apache Casssandra tables"
   ]
  },
  {
   "cell_type": "code",
   "execution_count": 3,
   "metadata": {},
   "outputs": [],
   "source": [
    "# initiating an empty list of rows that will be generated from each file\n",
    "full_data_rows_list = [] \n",
    "    \n",
    "# for every filepath in the file path list \n",
    "for f in file_path_list:\n",
    "\n",
    "    # reading the csv file \n",
    "    with open(f, 'r', encoding = 'utf8', newline='') as csvfile: \n",
    "        # creating a csv reader object \n",
    "        csvreader = csv.reader(csvfile) \n",
    "        # skip header row\n",
    "        next(csvreader)\n",
    "        \n",
    "        # extracting each data row one by one and append it        \n",
    "        for line in csvreader:\n",
    "            #print(line)\n",
    "            full_data_rows_list.append(line) \n",
    "\n",
    "# creating a smaller event data csv file called event_datafile_full csv that will be used to insert data\n",
    "csv.register_dialect('myDialect', quoting=csv.QUOTE_ALL, skipinitialspace=True)\n",
    "\n",
    "file = 'event_datafile_new.csv'\n",
    "event_datafile_path = dirname(dirname(os.getcwd())) + '/data/event_data/' + file\n",
    "   \n",
    "with open(event_datafile_path, 'w', encoding='utf8', newline='') as f:\n",
    "    writer = csv.writer(f, dialect='myDialect')\n",
    "    writer.writerow(['artist','firstName','gender','itemInSession','lastName','length',\\\n",
    "                'level','location','sessionId','song','userId'])\n",
    "    for row in full_data_rows_list:\n",
    "        if (row[0] == ''):\n",
    "            continue\n",
    "        writer.writerow((row[0], row[2], row[3], row[4], row[5], row[6], row[7], row[8], row[12], row[13], row[16]))"
   ]
  },
  {
   "cell_type": "code",
   "execution_count": 4,
   "metadata": {},
   "outputs": [
    {
     "name": "stdout",
     "output_type": "stream",
     "text": [
      "6821\n"
     ]
    }
   ],
   "source": [
    "# check the number of rows in your csv file\n",
    "with open(event_datafile_path, 'r', encoding = 'utf8') as f:\n",
    "    print(sum(1 for line in f))"
   ]
  },
  {
   "cell_type": "markdown",
   "metadata": {},
   "source": [
    "-------"
   ]
  },
  {
   "cell_type": "markdown",
   "metadata": {},
   "source": [
    "# Part II. Apache Cassandra Data Modeling (Coding)\n",
    "\n",
    "## Now you are ready to work with the CSV file titled <font color=red>event_datafile_new.csv</font>, located within the Workspace directory.  The event_datafile_new.csv contains the following columns: \n",
    "- artist \n",
    "- firstName of user\n",
    "- gender of user\n",
    "- item number in session\n",
    "- last name of user\n",
    "- length of the song\n",
    "- level (paid or free song)\n",
    "- location of the user\n",
    "- sessionId\n",
    "- song title\n",
    "- userId\n",
    "\n",
    "The image below is a screenshot of what the denormalized data should appear like in the <font color=red>**event_datafile_new.csv**</font> after the code above is run:<br>"
   ]
  },
  {
   "cell_type": "markdown",
   "metadata": {},
   "source": [
    "![Data](./images/data-file.png)"
   ]
  },
  {
   "cell_type": "markdown",
   "metadata": {},
   "source": [
    "## Apache Cassandra code"
   ]
  },
  {
   "cell_type": "markdown",
   "metadata": {},
   "source": [
    "#### Creating a Cluster"
   ]
  },
  {
   "cell_type": "code",
   "execution_count": 5,
   "metadata": {},
   "outputs": [],
   "source": [
    "# this should make a connection to a Cassandra instance your local machine (127.0.0.1)\n",
    "from cassandra.cluster import Cluster\n",
    "\n",
    "# make a connection to a Cassandra instance - local machine \n",
    "cluster = Cluster(['127.0.0.1'])\n",
    "\n",
    "# establish connection and begin executing queries, need a session\n",
    "session = cluster.connect()"
   ]
  },
  {
   "cell_type": "markdown",
   "metadata": {},
   "source": [
    "#### Create Keyspace"
   ]
  },
  {
   "cell_type": "code",
   "execution_count": 6,
   "metadata": {},
   "outputs": [],
   "source": [
    "# create a new Keyspace \n",
    "create_keyspace_query = \"\"\"\n",
    "        CREATE KEYSPACE IF NOT EXISTS music_app_history\n",
    "        WITH REPLICATION =\n",
    "        { 'class': 'SimpleStrategy', 'replication_factor' : 1 }\n",
    "    \"\"\"\n",
    "\n",
    "try:\n",
    "    session.execute(create_keyspace_query)\n",
    "except Exception as e:\n",
    "    print(e)"
   ]
  },
  {
   "cell_type": "markdown",
   "metadata": {},
   "source": [
    "#### Set Keyspace"
   ]
  },
  {
   "cell_type": "code",
   "execution_count": 7,
   "metadata": {},
   "outputs": [],
   "source": [
    "# set keyspace to the keyspace specified above\n",
    "session.set_keyspace('music_app_history')"
   ]
  },
  {
   "cell_type": "markdown",
   "metadata": {},
   "source": [
    "### Now we need to create tables to run the following queries (with Apache Cassandra we model the database tables on the queries we want to run)"
   ]
  },
  {
   "cell_type": "markdown",
   "metadata": {},
   "source": [
    "## Create queries to ask the following three questions of the data\n",
    "* QUESTION 1 - Give me the artist, song title and song's length in the music app history that was heard during sessionId = 338, and itemInSession = 4\n",
    "\n",
    "\n",
    "* QUESTION 2 - Give me only the following: name of artist, song (sorted by itemInSession) and user (first and last name) for userid = 10, sessionid = 182\n",
    "\n",
    "\n",
    "* QUESTION 3 - Give me every user name (first and last) in my music app history who listened to the song 'All Hands Against His Own'"
   ]
  },
  {
   "cell_type": "code",
   "execution_count": 8,
   "metadata": {},
   "outputs": [],
   "source": [
    "# load data from csv to pandas dataframe\n",
    "df_event_datafile = pd.read_csv(event_datafile_path, encoding='utf8')"
   ]
  },
  {
   "cell_type": "code",
   "execution_count": 9,
   "metadata": {},
   "outputs": [
    {
     "name": "stdout",
     "output_type": "stream",
     "text": [
      "<class 'pandas.core.frame.DataFrame'>\n",
      "RangeIndex: 6820 entries, 0 to 6819\n",
      "Data columns (total 11 columns):\n",
      " #   Column         Non-Null Count  Dtype  \n",
      "---  ------         --------------  -----  \n",
      " 0   artist         6820 non-null   object \n",
      " 1   firstName      6820 non-null   object \n",
      " 2   gender         6820 non-null   object \n",
      " 3   itemInSession  6820 non-null   int64  \n",
      " 4   lastName       6820 non-null   object \n",
      " 5   length         6820 non-null   float64\n",
      " 6   level          6820 non-null   object \n",
      " 7   location       6820 non-null   object \n",
      " 8   sessionId      6820 non-null   int64  \n",
      " 9   song           6820 non-null   object \n",
      " 10  userId         6820 non-null   int64  \n",
      "dtypes: float64(1), int64(3), object(7)\n",
      "memory usage: 586.2+ KB\n"
     ]
    }
   ],
   "source": [
    "df_event_datafile.info()"
   ]
  },
  {
   "cell_type": "code",
   "execution_count": 10,
   "metadata": {},
   "outputs": [],
   "source": [
    "## creation of a new field named user_name where the user's full name is stored (first name + last name).\n",
    "df_event_datafile['user_name'] = df_event_datafile.firstName + ' ' + df_event_datafile.lastName"
   ]
  },
  {
   "cell_type": "code",
   "execution_count": 11,
   "metadata": {},
   "outputs": [
    {
     "data": {
      "text/html": [
       "<div>\n",
       "<style scoped>\n",
       "    .dataframe tbody tr th:only-of-type {\n",
       "        vertical-align: middle;\n",
       "    }\n",
       "\n",
       "    .dataframe tbody tr th {\n",
       "        vertical-align: top;\n",
       "    }\n",
       "\n",
       "    .dataframe thead th {\n",
       "        text-align: right;\n",
       "    }\n",
       "</style>\n",
       "<table border=\"1\" class=\"dataframe\">\n",
       "  <thead>\n",
       "    <tr style=\"text-align: right;\">\n",
       "      <th></th>\n",
       "      <th>artist</th>\n",
       "      <th>firstName</th>\n",
       "      <th>gender</th>\n",
       "      <th>itemInSession</th>\n",
       "      <th>lastName</th>\n",
       "      <th>length</th>\n",
       "      <th>level</th>\n",
       "      <th>location</th>\n",
       "      <th>sessionId</th>\n",
       "      <th>song</th>\n",
       "      <th>userId</th>\n",
       "      <th>user_name</th>\n",
       "    </tr>\n",
       "  </thead>\n",
       "  <tbody>\n",
       "    <tr>\n",
       "      <th>0</th>\n",
       "      <td>Harmonia</td>\n",
       "      <td>Ryan</td>\n",
       "      <td>M</td>\n",
       "      <td>0</td>\n",
       "      <td>Smith</td>\n",
       "      <td>655.77751</td>\n",
       "      <td>free</td>\n",
       "      <td>San Jose-Sunnyvale-Santa Clara, CA</td>\n",
       "      <td>583</td>\n",
       "      <td>Sehr kosmisch</td>\n",
       "      <td>26</td>\n",
       "      <td>Ryan Smith</td>\n",
       "    </tr>\n",
       "    <tr>\n",
       "      <th>1</th>\n",
       "      <td>The Prodigy</td>\n",
       "      <td>Ryan</td>\n",
       "      <td>M</td>\n",
       "      <td>1</td>\n",
       "      <td>Smith</td>\n",
       "      <td>260.07465</td>\n",
       "      <td>free</td>\n",
       "      <td>San Jose-Sunnyvale-Santa Clara, CA</td>\n",
       "      <td>583</td>\n",
       "      <td>The Big Gundown</td>\n",
       "      <td>26</td>\n",
       "      <td>Ryan Smith</td>\n",
       "    </tr>\n",
       "  </tbody>\n",
       "</table>\n",
       "</div>"
      ],
      "text/plain": [
       "        artist firstName gender  itemInSession lastName     length level  \\\n",
       "0     Harmonia      Ryan      M              0    Smith  655.77751  free   \n",
       "1  The Prodigy      Ryan      M              1    Smith  260.07465  free   \n",
       "\n",
       "                             location  sessionId             song  userId  \\\n",
       "0  San Jose-Sunnyvale-Santa Clara, CA        583    Sehr kosmisch      26   \n",
       "1  San Jose-Sunnyvale-Santa Clara, CA        583  The Big Gundown      26   \n",
       "\n",
       "    user_name  \n",
       "0  Ryan Smith  \n",
       "1  Ryan Smith  "
      ]
     },
     "execution_count": 11,
     "metadata": {},
     "output_type": "execute_result"
    }
   ],
   "source": [
    "df_event_datafile.head(2)"
   ]
  },
  {
   "cell_type": "markdown",
   "metadata": {},
   "source": [
    "----"
   ]
  },
  {
   "cell_type": "markdown",
   "metadata": {},
   "source": [
    "## Answers to the Questions\n"
   ]
  },
  {
   "cell_type": "markdown",
   "metadata": {},
   "source": [
    "### QUESTION 1 - Give me the artist, song title and song's length in the music app history that was heard during  sessionId = 338, and itemInSession  = 4"
   ]
  },
  {
   "cell_type": "markdown",
   "metadata": {},
   "source": [
    "* Table structure as: \n",
    "        * Column 1 = session_id\n",
    "        * Column 2 = item_in_session\n",
    "        * Column 3 = artist\n",
    "        * Column 4 = song\n",
    "        * Column 5 = length\n",
    "        * Primary key = (session_id, item_in_session)"
   ]
  },
  {
   "cell_type": "code",
   "execution_count": 12,
   "metadata": {},
   "outputs": [],
   "source": [
    "## CREATE TABLE: create table for query 1\n",
    "query  =  \"\"\"CREATE TABLE IF NOT EXISTS song_in_session_history(session_id INT, item_in_session INT, artist TEXT, song TEXT, length FLOAT, \\\n",
    "           PRIMARY KEY(session_id, item_in_session))\"\"\"\n",
    "\n",
    "try:\n",
    "    session.execute(query)\n",
    "except Exception as e:\n",
    "    print(e)"
   ]
  },
  {
   "cell_type": "code",
   "execution_count": 13,
   "metadata": {},
   "outputs": [],
   "source": [
    "## LOAD DATA: Insert data into table for query 1\n",
    "for i, row in df_event_datafile.iterrows():\n",
    "    query  = \"INSERT INTO song_in_session_history (session_id, item_in_session, artist, song, length)\"\n",
    "    query += \"VALUES(%s, %s, %s, %s, %s)\"\n",
    "    session.execute(query, (row.sessionId, row.itemInSession, row.artist, row.song, row.length))                    "
   ]
  },
  {
   "cell_type": "markdown",
   "metadata": {},
   "source": [
    "#### SELECT to verify that the data have been inserted into table\n",
    "\n",
    "* To exploit the results, I also used a cassandra web user interface to analyse the data.\n",
    "\n",
    "\n",
    "* _The specific field names are used to retrieve data. This is also a very important point when we are accessing a very huge database. Doing SELECT * can be very costly in terms of reading._\n",
    "\n",
    "\n",
    "* Fields name: **session_id, item_in_session, artist, song, length**"
   ]
  },
  {
   "cell_type": "code",
   "execution_count": 14,
   "metadata": {
    "scrolled": true
   },
   "outputs": [
    {
     "data": {
      "text/html": [
       "<div>\n",
       "<style scoped>\n",
       "    .dataframe tbody tr th:only-of-type {\n",
       "        vertical-align: middle;\n",
       "    }\n",
       "\n",
       "    .dataframe tbody tr th {\n",
       "        vertical-align: top;\n",
       "    }\n",
       "\n",
       "    .dataframe thead th {\n",
       "        text-align: right;\n",
       "    }\n",
       "</style>\n",
       "<table border=\"1\" class=\"dataframe\">\n",
       "  <thead>\n",
       "    <tr style=\"text-align: right;\">\n",
       "      <th></th>\n",
       "      <th>session_id</th>\n",
       "      <th>item_in_session</th>\n",
       "      <th>artist</th>\n",
       "      <th>song</th>\n",
       "      <th>length</th>\n",
       "    </tr>\n",
       "  </thead>\n",
       "  <tbody>\n",
       "    <tr>\n",
       "      <th>0</th>\n",
       "      <td>338</td>\n",
       "      <td>4</td>\n",
       "      <td>Faithless</td>\n",
       "      <td>Music Matters (Mark Knight Dub)</td>\n",
       "      <td>495.307312</td>\n",
       "    </tr>\n",
       "  </tbody>\n",
       "</table>\n",
       "</div>"
      ],
      "text/plain": [
       "   session_id  item_in_session     artist                             song  \\\n",
       "0         338                4  Faithless  Music Matters (Mark Knight Dub)   \n",
       "\n",
       "       length  \n",
       "0  495.307312  "
      ]
     },
     "execution_count": 14,
     "metadata": {},
     "output_type": "execute_result"
    }
   ],
   "source": [
    "## SELECT statement for query 1\n",
    "query = \" SELECT session_id, item_in_session, artist, song, length \\\n",
    "          FROM song_in_session_history \\\n",
    "          WHERE session_id = 338  \\\n",
    "            AND item_in_session = 4 \"\n",
    "try:\n",
    "    rows = session.execute(query)\n",
    "except Exception as e:\n",
    "    print(e)\n",
    "\n",
    "## create new dataframe for query 1\n",
    "data = list(map(lambda row: list(row), rows))\n",
    "pd.DataFrame(data, columns = ['session_id', 'item_in_session', 'artist', 'song', 'length'])"
   ]
  },
  {
   "cell_type": "markdown",
   "metadata": {},
   "source": [
    "![Data](./images/cassandra-web-query-1.png)"
   ]
  },
  {
   "cell_type": "markdown",
   "metadata": {},
   "source": [
    "------"
   ]
  },
  {
   "cell_type": "markdown",
   "metadata": {},
   "source": [
    "### QUESTION 2 - Give me only the following: name of artist, song (sorted by itemInSession) and user (first and last name) for userid = 10, sessionid = 182"
   ]
  },
  {
   "cell_type": "markdown",
   "metadata": {},
   "source": [
    "* Table structure as: \n",
    "        * Column 1 = user_id\n",
    "        * Column 2 = session_id\n",
    "        * Column 3 = item_in_session\n",
    "        * Column 4 = artist\n",
    "        * Column 5 = song\n",
    "        * Column 6 = user_name\n",
    "        * Primary key = (user_id, session_id) with clustering column item_in_session"
   ]
  },
  {
   "cell_type": "code",
   "execution_count": 15,
   "metadata": {},
   "outputs": [],
   "source": [
    "## CREATE TABLE: create table for query 2\n",
    "query  =  \"\"\"CREATE TABLE IF NOT EXISTS songs_in_user_history( user_id INT, session_id INT, item_in_session INT, artist TEXT, song TEXT, user_name TEXT, \\\n",
    "           PRIMARY KEY((user_id, session_id), item_in_session))\"\"\"\n",
    "\n",
    "try:\n",
    "    session.execute(query)\n",
    "except Exception as e:\n",
    "    print(e)"
   ]
  },
  {
   "cell_type": "code",
   "execution_count": 16,
   "metadata": {},
   "outputs": [],
   "source": [
    "## LOAD DATA: Insert data into table for query 2\n",
    "for i, row in df_event_datafile.iterrows():\n",
    "    query  = \"INSERT INTO songs_in_user_history (user_id, session_id, item_in_session, artist, song, user_name)\"\n",
    "    query += \"VALUES(%s, %s, %s, %s, %s, %s)\"\n",
    "    session.execute(query, (row.userId, row.sessionId, row.itemInSession, row.artist, row.song, row.user_name))"
   ]
  },
  {
   "cell_type": "markdown",
   "metadata": {},
   "source": [
    "#### SELECT to verify that the data have been inserted into table\n",
    "\n",
    "* To exploit the results, I also used a cassandra web user interface to analyse the data.\n",
    "\n",
    "\n",
    "* _The specific field names are used to retrieve data. This is also a very important point when we are accessing a very huge database. Doing SELECT * can be very costly in terms of reading._\n",
    "\n",
    "\n",
    "* Fields name: **user_id, session_id, item_in_session, artist, song, user_name**"
   ]
  },
  {
   "cell_type": "code",
   "execution_count": 17,
   "metadata": {},
   "outputs": [
    {
     "data": {
      "text/html": [
       "<div>\n",
       "<style scoped>\n",
       "    .dataframe tbody tr th:only-of-type {\n",
       "        vertical-align: middle;\n",
       "    }\n",
       "\n",
       "    .dataframe tbody tr th {\n",
       "        vertical-align: top;\n",
       "    }\n",
       "\n",
       "    .dataframe thead th {\n",
       "        text-align: right;\n",
       "    }\n",
       "</style>\n",
       "<table border=\"1\" class=\"dataframe\">\n",
       "  <thead>\n",
       "    <tr style=\"text-align: right;\">\n",
       "      <th></th>\n",
       "      <th>user_id</th>\n",
       "      <th>session_id</th>\n",
       "      <th>item_in_session</th>\n",
       "      <th>artist</th>\n",
       "      <th>song</th>\n",
       "      <th>user_name</th>\n",
       "    </tr>\n",
       "  </thead>\n",
       "  <tbody>\n",
       "    <tr>\n",
       "      <th>0</th>\n",
       "      <td>10</td>\n",
       "      <td>182</td>\n",
       "      <td>0</td>\n",
       "      <td>Down To The Bone</td>\n",
       "      <td>Keep On Keepin' On</td>\n",
       "      <td>Sylvie Cruz</td>\n",
       "    </tr>\n",
       "    <tr>\n",
       "      <th>1</th>\n",
       "      <td>10</td>\n",
       "      <td>182</td>\n",
       "      <td>1</td>\n",
       "      <td>Three Drives</td>\n",
       "      <td>Greece 2000</td>\n",
       "      <td>Sylvie Cruz</td>\n",
       "    </tr>\n",
       "    <tr>\n",
       "      <th>2</th>\n",
       "      <td>10</td>\n",
       "      <td>182</td>\n",
       "      <td>2</td>\n",
       "      <td>Sebastien Tellier</td>\n",
       "      <td>Kilometer</td>\n",
       "      <td>Sylvie Cruz</td>\n",
       "    </tr>\n",
       "    <tr>\n",
       "      <th>3</th>\n",
       "      <td>10</td>\n",
       "      <td>182</td>\n",
       "      <td>3</td>\n",
       "      <td>Lonnie Gordon</td>\n",
       "      <td>Catch You Baby (Steve Pitron &amp; Max Sanna Radio...</td>\n",
       "      <td>Sylvie Cruz</td>\n",
       "    </tr>\n",
       "  </tbody>\n",
       "</table>\n",
       "</div>"
      ],
      "text/plain": [
       "   user_id  session_id  item_in_session             artist  \\\n",
       "0       10         182                0   Down To The Bone   \n",
       "1       10         182                1       Three Drives   \n",
       "2       10         182                2  Sebastien Tellier   \n",
       "3       10         182                3      Lonnie Gordon   \n",
       "\n",
       "                                                song    user_name  \n",
       "0                                 Keep On Keepin' On  Sylvie Cruz  \n",
       "1                                        Greece 2000  Sylvie Cruz  \n",
       "2                                          Kilometer  Sylvie Cruz  \n",
       "3  Catch You Baby (Steve Pitron & Max Sanna Radio...  Sylvie Cruz  "
      ]
     },
     "execution_count": 17,
     "metadata": {},
     "output_type": "execute_result"
    }
   ],
   "source": [
    "## SELECT statement for query 2\n",
    "query = \"SELECT user_id, session_id, item_in_session, artist, song, user_name \\\n",
    "         FROM songs_in_user_history \\\n",
    "         WHERE user_id = 10 \\\n",
    "            AND session_id = 182 \\\n",
    "        \"\n",
    "try:\n",
    "    rows = session.execute(query)\n",
    "except Exception as e:\n",
    "    print(e)\n",
    "\n",
    "## create new dataframe for query 2\n",
    "data = list(map(lambda row: list(row), rows))\n",
    "pd.DataFrame(data, columns = ['user_id', 'session_id', 'item_in_session', 'artist', 'song', 'user_name'])"
   ]
  },
  {
   "cell_type": "markdown",
   "metadata": {},
   "source": [
    "![Data](./images/cassandra-web-query-2.png)"
   ]
  },
  {
   "cell_type": "markdown",
   "metadata": {},
   "source": [
    "------"
   ]
  },
  {
   "cell_type": "markdown",
   "metadata": {},
   "source": [
    "### QUESTION 3 - Give me every user name (first and last) in my music app history who listened to the song 'All Hands Against His Own'"
   ]
  },
  {
   "cell_type": "markdown",
   "metadata": {},
   "source": [
    "* Table structure as: \n",
    "        * Column 1 = song\n",
    "        * Column 2 = user_id\n",
    "        * Column 3 = user_name\n",
    "        * Primary key = (song, user_id)"
   ]
  },
  {
   "cell_type": "code",
   "execution_count": 18,
   "metadata": {},
   "outputs": [],
   "source": [
    "## CREATE TABLE: create table for query 3\n",
    "query  =  \"\"\"CREATE TABLE IF NOT EXISTS user_in_song_history (song TEXT, user_id INT, user_name TEXT, \\\n",
    "           PRIMARY KEY(song, user_id))\"\"\"\n",
    "\n",
    "try:\n",
    "    session.execute(query)\n",
    "except Exception as e:\n",
    "    print(e)"
   ]
  },
  {
   "cell_type": "code",
   "execution_count": 19,
   "metadata": {},
   "outputs": [],
   "source": [
    "## LOAD DATA: Insert data into table for query 3\n",
    "for i, row in df_event_datafile.iterrows():\n",
    "    query  = \"INSERT INTO user_in_song_history (song, user_id, user_name)\"\n",
    "    query += \"VALUES(%s, %s, %s)\"\n",
    "    session.execute(query, (row.song, row.userId, row.user_name))"
   ]
  },
  {
   "cell_type": "markdown",
   "metadata": {},
   "source": [
    "#### SELECT to verify that the data have been inserted into table\n",
    "\n",
    "* To exploit the results, I also used a cassandra web user interface to analyse the data.\n",
    "\n",
    "\n",
    "* _The specific field names are used to retrieve data. This is also a very important point when we are accessing a very huge database. Doing SELECT * can be very costly in terms of reading._\n",
    "\n",
    "\n",
    "* Fields name: **song, user_id, user_name**"
   ]
  },
  {
   "cell_type": "code",
   "execution_count": 20,
   "metadata": {
    "scrolled": false
   },
   "outputs": [
    {
     "data": {
      "text/html": [
       "<div>\n",
       "<style scoped>\n",
       "    .dataframe tbody tr th:only-of-type {\n",
       "        vertical-align: middle;\n",
       "    }\n",
       "\n",
       "    .dataframe tbody tr th {\n",
       "        vertical-align: top;\n",
       "    }\n",
       "\n",
       "    .dataframe thead th {\n",
       "        text-align: right;\n",
       "    }\n",
       "</style>\n",
       "<table border=\"1\" class=\"dataframe\">\n",
       "  <thead>\n",
       "    <tr style=\"text-align: right;\">\n",
       "      <th></th>\n",
       "      <th>song</th>\n",
       "      <th>user_id</th>\n",
       "      <th>user_name</th>\n",
       "    </tr>\n",
       "  </thead>\n",
       "  <tbody>\n",
       "    <tr>\n",
       "      <th>0</th>\n",
       "      <td>All Hands Against His Own</td>\n",
       "      <td>29</td>\n",
       "      <td>Jacqueline Lynch</td>\n",
       "    </tr>\n",
       "    <tr>\n",
       "      <th>1</th>\n",
       "      <td>All Hands Against His Own</td>\n",
       "      <td>80</td>\n",
       "      <td>Tegan Levine</td>\n",
       "    </tr>\n",
       "    <tr>\n",
       "      <th>2</th>\n",
       "      <td>All Hands Against His Own</td>\n",
       "      <td>95</td>\n",
       "      <td>Sara Johnson</td>\n",
       "    </tr>\n",
       "  </tbody>\n",
       "</table>\n",
       "</div>"
      ],
      "text/plain": [
       "                        song  user_id         user_name\n",
       "0  All Hands Against His Own       29  Jacqueline Lynch\n",
       "1  All Hands Against His Own       80      Tegan Levine\n",
       "2  All Hands Against His Own       95      Sara Johnson"
      ]
     },
     "execution_count": 20,
     "metadata": {},
     "output_type": "execute_result"
    }
   ],
   "source": [
    "## SELECT statement for query 3\n",
    "query = \"SELECT song, user_id, user_name \\\n",
    "         FROM user_in_song_history \\\n",
    "         WHERE song = 'All Hands Against His Own' \\\n",
    "        \"\n",
    "try:\n",
    "    rows = session.execute(query)\n",
    "except Exception as e:\n",
    "    print(e)\n",
    "\n",
    "## create new dataframe for query 3\n",
    "data = list(map(lambda row: list(row), rows))\n",
    "pd.DataFrame(data, columns = ['song', 'user_id', 'user_name'])"
   ]
  },
  {
   "cell_type": "markdown",
   "metadata": {},
   "source": [
    "![Data](./images/cassandra-web-query-3.png)"
   ]
  },
  {
   "cell_type": "markdown",
   "metadata": {},
   "source": [
    "--------"
   ]
  },
  {
   "cell_type": "markdown",
   "metadata": {},
   "source": [
    "### Drop the tables before closing out the sessions"
   ]
  },
  {
   "cell_type": "code",
   "execution_count": 21,
   "metadata": {},
   "outputs": [
    {
     "data": {
      "text/plain": [
       "<cassandra.cluster.ResultSet at 0x115d09790>"
      ]
     },
     "execution_count": 21,
     "metadata": {},
     "output_type": "execute_result"
    }
   ],
   "source": [
    "session.execute(\"DROP TABLE IF EXISTS songs_in_user_history\")"
   ]
  },
  {
   "cell_type": "code",
   "execution_count": 22,
   "metadata": {},
   "outputs": [
    {
     "data": {
      "text/plain": [
       "<cassandra.cluster.ResultSet at 0x115ce0e20>"
      ]
     },
     "execution_count": 22,
     "metadata": {},
     "output_type": "execute_result"
    }
   ],
   "source": [
    "session.execute(\"DROP TABLE IF EXISTS songs_in_user_history\")"
   ]
  },
  {
   "cell_type": "code",
   "execution_count": 23,
   "metadata": {},
   "outputs": [
    {
     "data": {
      "text/plain": [
       "<cassandra.cluster.ResultSet at 0x115ce0790>"
      ]
     },
     "execution_count": 23,
     "metadata": {},
     "output_type": "execute_result"
    }
   ],
   "source": [
    "session.execute(\"DROP TABLE IF EXISTS user_in_song_history\")"
   ]
  },
  {
   "cell_type": "markdown",
   "metadata": {},
   "source": [
    "------"
   ]
  },
  {
   "cell_type": "markdown",
   "metadata": {},
   "source": [
    "### Drop the KEYSPACE before closing out the sessions"
   ]
  },
  {
   "cell_type": "code",
   "execution_count": 24,
   "metadata": {},
   "outputs": [
    {
     "data": {
      "text/plain": [
       "<cassandra.cluster.ResultSet at 0x115cbff40>"
      ]
     },
     "execution_count": 24,
     "metadata": {},
     "output_type": "execute_result"
    }
   ],
   "source": [
    "session.execute(\"DROP KEYSPACE IF EXISTS music_app_history\")"
   ]
  },
  {
   "cell_type": "markdown",
   "metadata": {},
   "source": [
    "--------"
   ]
  },
  {
   "cell_type": "markdown",
   "metadata": {},
   "source": [
    "### Close the session and cluster connection¶"
   ]
  },
  {
   "cell_type": "code",
   "execution_count": 25,
   "metadata": {},
   "outputs": [],
   "source": [
    "session.shutdown()\n",
    "cluster.shutdown()"
   ]
  },
  {
   "cell_type": "markdown",
   "metadata": {},
   "source": [
    "------------"
   ]
  },
  {
   "cell_type": "markdown",
   "metadata": {},
   "source": [
    "### Remove the generated csv file"
   ]
  },
  {
   "cell_type": "code",
   "execution_count": 26,
   "metadata": {},
   "outputs": [],
   "source": [
    "# Remove a file\n",
    "os.remove(event_datafile_path) "
   ]
  },
  {
   "cell_type": "markdown",
   "metadata": {},
   "source": [
    "---------"
   ]
  },
  {
   "cell_type": "markdown",
   "metadata": {},
   "source": [
    "-------"
   ]
  }
 ],
 "metadata": {
  "kernelspec": {
   "display_name": "Python 3",
   "language": "python",
   "name": "python3"
  },
  "language_info": {
   "codemirror_mode": {
    "name": "ipython",
    "version": 3
   },
   "file_extension": ".py",
   "mimetype": "text/x-python",
   "name": "python",
   "nbconvert_exporter": "python",
   "pygments_lexer": "ipython3",
   "version": "3.8.2"
  }
 },
 "nbformat": 4,
 "nbformat_minor": 2
}
